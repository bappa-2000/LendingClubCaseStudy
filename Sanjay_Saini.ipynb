{
 "cells": [
  {
   "cell_type": "code",
   "execution_count": 392,
   "id": "088b30f1",
   "metadata": {},
   "outputs": [],
   "source": [
    "import pandas as pd\n",
    "import numpy as np\n",
    "import datetime as datetime \n",
    "import matplotlib.pyplot as plt\n",
    "import seaborn as sns\n",
    "\n",
    "# Ignore warnings\n",
    "import warnings\n",
    "warnings.filterwarnings('ignore')"
   ]
  },
  {
   "cell_type": "markdown",
   "id": "b212dc75",
   "metadata": {},
   "source": [
    "# 1.  Data Load"
   ]
  },
  {
   "cell_type": "code",
   "execution_count": 597,
   "id": "dbc258e0",
   "metadata": {},
   "outputs": [
    {
     "data": {
      "text/html": [
       "<div>\n",
       "<style scoped>\n",
       "    .dataframe tbody tr th:only-of-type {\n",
       "        vertical-align: middle;\n",
       "    }\n",
       "\n",
       "    .dataframe tbody tr th {\n",
       "        vertical-align: top;\n",
       "    }\n",
       "\n",
       "    .dataframe thead th {\n",
       "        text-align: right;\n",
       "    }\n",
       "</style>\n",
       "<table border=\"1\" class=\"dataframe\">\n",
       "  <thead>\n",
       "    <tr style=\"text-align: right;\">\n",
       "      <th></th>\n",
       "      <th>id</th>\n",
       "      <th>member_id</th>\n",
       "      <th>loan_amnt</th>\n",
       "      <th>funded_amnt</th>\n",
       "      <th>funded_amnt_inv</th>\n",
       "      <th>term</th>\n",
       "      <th>int_rate</th>\n",
       "      <th>installment</th>\n",
       "      <th>grade</th>\n",
       "      <th>sub_grade</th>\n",
       "      <th>...</th>\n",
       "      <th>num_tl_90g_dpd_24m</th>\n",
       "      <th>num_tl_op_past_12m</th>\n",
       "      <th>pct_tl_nvr_dlq</th>\n",
       "      <th>percent_bc_gt_75</th>\n",
       "      <th>pub_rec_bankruptcies</th>\n",
       "      <th>tax_liens</th>\n",
       "      <th>tot_hi_cred_lim</th>\n",
       "      <th>total_bal_ex_mort</th>\n",
       "      <th>total_bc_limit</th>\n",
       "      <th>total_il_high_credit_limit</th>\n",
       "    </tr>\n",
       "  </thead>\n",
       "  <tbody>\n",
       "    <tr>\n",
       "      <th>0</th>\n",
       "      <td>1077501</td>\n",
       "      <td>1296599</td>\n",
       "      <td>5000</td>\n",
       "      <td>5000</td>\n",
       "      <td>4975.0</td>\n",
       "      <td>36 months</td>\n",
       "      <td>10.65%</td>\n",
       "      <td>162.87</td>\n",
       "      <td>B</td>\n",
       "      <td>B2</td>\n",
       "      <td>...</td>\n",
       "      <td>NaN</td>\n",
       "      <td>NaN</td>\n",
       "      <td>NaN</td>\n",
       "      <td>NaN</td>\n",
       "      <td>0.0</td>\n",
       "      <td>0.0</td>\n",
       "      <td>NaN</td>\n",
       "      <td>NaN</td>\n",
       "      <td>NaN</td>\n",
       "      <td>NaN</td>\n",
       "    </tr>\n",
       "    <tr>\n",
       "      <th>1</th>\n",
       "      <td>1077430</td>\n",
       "      <td>1314167</td>\n",
       "      <td>2500</td>\n",
       "      <td>2500</td>\n",
       "      <td>2500.0</td>\n",
       "      <td>60 months</td>\n",
       "      <td>15.27%</td>\n",
       "      <td>59.83</td>\n",
       "      <td>C</td>\n",
       "      <td>C4</td>\n",
       "      <td>...</td>\n",
       "      <td>NaN</td>\n",
       "      <td>NaN</td>\n",
       "      <td>NaN</td>\n",
       "      <td>NaN</td>\n",
       "      <td>0.0</td>\n",
       "      <td>0.0</td>\n",
       "      <td>NaN</td>\n",
       "      <td>NaN</td>\n",
       "      <td>NaN</td>\n",
       "      <td>NaN</td>\n",
       "    </tr>\n",
       "    <tr>\n",
       "      <th>2</th>\n",
       "      <td>1077175</td>\n",
       "      <td>1313524</td>\n",
       "      <td>2400</td>\n",
       "      <td>2400</td>\n",
       "      <td>2400.0</td>\n",
       "      <td>36 months</td>\n",
       "      <td>15.96%</td>\n",
       "      <td>84.33</td>\n",
       "      <td>C</td>\n",
       "      <td>C5</td>\n",
       "      <td>...</td>\n",
       "      <td>NaN</td>\n",
       "      <td>NaN</td>\n",
       "      <td>NaN</td>\n",
       "      <td>NaN</td>\n",
       "      <td>0.0</td>\n",
       "      <td>0.0</td>\n",
       "      <td>NaN</td>\n",
       "      <td>NaN</td>\n",
       "      <td>NaN</td>\n",
       "      <td>NaN</td>\n",
       "    </tr>\n",
       "    <tr>\n",
       "      <th>3</th>\n",
       "      <td>1076863</td>\n",
       "      <td>1277178</td>\n",
       "      <td>10000</td>\n",
       "      <td>10000</td>\n",
       "      <td>10000.0</td>\n",
       "      <td>36 months</td>\n",
       "      <td>13.49%</td>\n",
       "      <td>339.31</td>\n",
       "      <td>C</td>\n",
       "      <td>C1</td>\n",
       "      <td>...</td>\n",
       "      <td>NaN</td>\n",
       "      <td>NaN</td>\n",
       "      <td>NaN</td>\n",
       "      <td>NaN</td>\n",
       "      <td>0.0</td>\n",
       "      <td>0.0</td>\n",
       "      <td>NaN</td>\n",
       "      <td>NaN</td>\n",
       "      <td>NaN</td>\n",
       "      <td>NaN</td>\n",
       "    </tr>\n",
       "    <tr>\n",
       "      <th>4</th>\n",
       "      <td>1075358</td>\n",
       "      <td>1311748</td>\n",
       "      <td>3000</td>\n",
       "      <td>3000</td>\n",
       "      <td>3000.0</td>\n",
       "      <td>60 months</td>\n",
       "      <td>12.69%</td>\n",
       "      <td>67.79</td>\n",
       "      <td>B</td>\n",
       "      <td>B5</td>\n",
       "      <td>...</td>\n",
       "      <td>NaN</td>\n",
       "      <td>NaN</td>\n",
       "      <td>NaN</td>\n",
       "      <td>NaN</td>\n",
       "      <td>0.0</td>\n",
       "      <td>0.0</td>\n",
       "      <td>NaN</td>\n",
       "      <td>NaN</td>\n",
       "      <td>NaN</td>\n",
       "      <td>NaN</td>\n",
       "    </tr>\n",
       "  </tbody>\n",
       "</table>\n",
       "<p>5 rows × 111 columns</p>\n",
       "</div>"
      ],
      "text/plain": [
       "        id  member_id  loan_amnt  funded_amnt  funded_amnt_inv        term  \\\n",
       "0  1077501    1296599       5000         5000           4975.0   36 months   \n",
       "1  1077430    1314167       2500         2500           2500.0   60 months   \n",
       "2  1077175    1313524       2400         2400           2400.0   36 months   \n",
       "3  1076863    1277178      10000        10000          10000.0   36 months   \n",
       "4  1075358    1311748       3000         3000           3000.0   60 months   \n",
       "\n",
       "  int_rate  installment grade sub_grade  ... num_tl_90g_dpd_24m  \\\n",
       "0   10.65%       162.87     B        B2  ...                NaN   \n",
       "1   15.27%        59.83     C        C4  ...                NaN   \n",
       "2   15.96%        84.33     C        C5  ...                NaN   \n",
       "3   13.49%       339.31     C        C1  ...                NaN   \n",
       "4   12.69%        67.79     B        B5  ...                NaN   \n",
       "\n",
       "  num_tl_op_past_12m pct_tl_nvr_dlq  percent_bc_gt_75 pub_rec_bankruptcies  \\\n",
       "0                NaN            NaN               NaN                  0.0   \n",
       "1                NaN            NaN               NaN                  0.0   \n",
       "2                NaN            NaN               NaN                  0.0   \n",
       "3                NaN            NaN               NaN                  0.0   \n",
       "4                NaN            NaN               NaN                  0.0   \n",
       "\n",
       "  tax_liens tot_hi_cred_lim total_bal_ex_mort total_bc_limit  \\\n",
       "0       0.0             NaN               NaN            NaN   \n",
       "1       0.0             NaN               NaN            NaN   \n",
       "2       0.0             NaN               NaN            NaN   \n",
       "3       0.0             NaN               NaN            NaN   \n",
       "4       0.0             NaN               NaN            NaN   \n",
       "\n",
       "  total_il_high_credit_limit  \n",
       "0                        NaN  \n",
       "1                        NaN  \n",
       "2                        NaN  \n",
       "3                        NaN  \n",
       "4                        NaN  \n",
       "\n",
       "[5 rows x 111 columns]"
      ]
     },
     "execution_count": 597,
     "metadata": {},
     "output_type": "execute_result"
    }
   ],
   "source": [
    "pd.low_memory=False\n",
    "RejectStats = pd.read_excel(\"Data_Dictionary.xlsx\", sheet_name=1)\n",
    "RejectStats.head(20)\n",
    "loan_all = pd.read_csv(\"loan.csv\")\n",
    "loan_all.head()"
   ]
  },
  {
   "cell_type": "code",
   "execution_count": 622,
   "id": "bd031dde",
   "metadata": {},
   "outputs": [
    {
     "data": {
      "text/plain": [
       "(39717, 45)"
      ]
     },
     "execution_count": 622,
     "metadata": {},
     "output_type": "execute_result"
    }
   ],
   "source": [
    "loan_all.shape"
   ]
  },
  {
   "cell_type": "markdown",
   "id": "1cf04531",
   "metadata": {},
   "source": [
    "# 2.  Data Cleaning \n",
    "### 1. Removing columns with all nulls and sinlge value in all rows\n",
    "* Checking the shape and checking nulls again"
   ]
  },
  {
   "cell_type": "code",
   "execution_count": 623,
   "id": "18771e87",
   "metadata": {},
   "outputs": [
    {
     "data": {
      "text/plain": [
       "(39717, 45)"
      ]
     },
     "execution_count": 623,
     "metadata": {},
     "output_type": "execute_result"
    }
   ],
   "source": [
    "### Getting a list of columns having all nulls more than 35% threshhold\n",
    "allnulls = loan_all.isnull().sum()\n",
    "\n",
    "### Getting a list of columns having unique values \n",
    "uniques = loan_all.nunique()\n",
    "\n",
    "## Concatinating both list \n",
    "removeIndexes = np.concatenate((uniques[uniques==1].index.values, \n",
    "                               allnulls[allnulls>(loan_all.shape[0]*0.35)].index.values))\n",
    "\n",
    "## Removing from Loan Data\n",
    "loan_all = loan_all.drop(removeIndexes, axis=1)\n",
    "loan_all.shape"
   ]
  },
  {
   "cell_type": "markdown",
   "id": "7bcee12c",
   "metadata": {},
   "source": [
    "### 2. Removing columns with max nulls after checking the use of columns and checking shape"
   ]
  },
  {
   "cell_type": "code",
   "execution_count": 624,
   "id": "6511e7e8",
   "metadata": {},
   "outputs": [
    {
     "data": {
      "text/plain": [
       "(39717, 45)"
      ]
     },
     "execution_count": 624,
     "metadata": {},
     "output_type": "execute_result"
    }
   ],
   "source": [
    "# loan_all = loan_all.drop(loan_all.isnull().sum().sort_values(ascending=False)[:4].index, axis=1)\n",
    "loan_all.shape"
   ]
  },
  {
   "cell_type": "code",
   "execution_count": 625,
   "id": "3785cd8b",
   "metadata": {},
   "outputs": [
    {
     "data": {
      "text/plain": [
       "desc                    12940\n",
       "emp_title                2459\n",
       "emp_length               1075\n",
       "pub_rec_bankruptcies      697\n",
       "last_pymnt_d               71\n",
       "revol_util                 50\n",
       "title                      11\n",
       "last_credit_pull_d          2\n",
       "out_prncp_inv               0\n",
       "open_acc                    0\n",
       "dtype: int64"
      ]
     },
     "execution_count": 625,
     "metadata": {},
     "output_type": "execute_result"
    }
   ],
   "source": [
    "## checking columns having more nulls\n",
    "loan_all.isnull().sum().sort_values(ascending=False)[:10]"
   ]
  },
  {
   "cell_type": "markdown",
   "id": "b357ff87",
   "metadata": {},
   "source": [
    "### 3. Checking \"Object\" column types and converting the types of Required columns"
   ]
  },
  {
   "cell_type": "code",
   "execution_count": 628,
   "id": "27a34aed",
   "metadata": {},
   "outputs": [
    {
     "data": {
      "text/html": [
       "<div>\n",
       "<style scoped>\n",
       "    .dataframe tbody tr th:only-of-type {\n",
       "        vertical-align: middle;\n",
       "    }\n",
       "\n",
       "    .dataframe tbody tr th {\n",
       "        vertical-align: top;\n",
       "    }\n",
       "\n",
       "    .dataframe thead th {\n",
       "        text-align: right;\n",
       "    }\n",
       "</style>\n",
       "<table border=\"1\" class=\"dataframe\">\n",
       "  <thead>\n",
       "    <tr style=\"text-align: right;\">\n",
       "      <th></th>\n",
       "      <th>term</th>\n",
       "      <th>int_rate</th>\n",
       "      <th>grade</th>\n",
       "      <th>sub_grade</th>\n",
       "      <th>emp_title</th>\n",
       "      <th>emp_length</th>\n",
       "      <th>home_ownership</th>\n",
       "      <th>verification_status</th>\n",
       "      <th>issue_d</th>\n",
       "      <th>loan_status</th>\n",
       "      <th>url</th>\n",
       "      <th>desc</th>\n",
       "      <th>purpose</th>\n",
       "      <th>title</th>\n",
       "      <th>zip_code</th>\n",
       "      <th>addr_state</th>\n",
       "      <th>earliest_cr_line</th>\n",
       "      <th>revol_util</th>\n",
       "      <th>last_pymnt_d</th>\n",
       "      <th>last_credit_pull_d</th>\n",
       "    </tr>\n",
       "  </thead>\n",
       "  <tbody>\n",
       "    <tr>\n",
       "      <th>0</th>\n",
       "      <td>36 months</td>\n",
       "      <td>10.65%</td>\n",
       "      <td>B</td>\n",
       "      <td>B2</td>\n",
       "      <td>NaN</td>\n",
       "      <td>10+ years</td>\n",
       "      <td>RENT</td>\n",
       "      <td>Verified</td>\n",
       "      <td>Dec-11</td>\n",
       "      <td>Fully Paid</td>\n",
       "      <td>https://lendingclub.com/browse/loanDetail.acti...</td>\n",
       "      <td>Borrower added on 12/22/11 &gt; I need to upgra...</td>\n",
       "      <td>credit_card</td>\n",
       "      <td>Computer</td>\n",
       "      <td>860xx</td>\n",
       "      <td>AZ</td>\n",
       "      <td>Jan-85</td>\n",
       "      <td>83.70%</td>\n",
       "      <td>Jan-15</td>\n",
       "      <td>May-16</td>\n",
       "    </tr>\n",
       "    <tr>\n",
       "      <th>1</th>\n",
       "      <td>60 months</td>\n",
       "      <td>15.27%</td>\n",
       "      <td>C</td>\n",
       "      <td>C4</td>\n",
       "      <td>Ryder</td>\n",
       "      <td>&lt; 1 year</td>\n",
       "      <td>RENT</td>\n",
       "      <td>Source Verified</td>\n",
       "      <td>Dec-11</td>\n",
       "      <td>Charged Off</td>\n",
       "      <td>https://lendingclub.com/browse/loanDetail.acti...</td>\n",
       "      <td>Borrower added on 12/22/11 &gt; I plan to use t...</td>\n",
       "      <td>car</td>\n",
       "      <td>bike</td>\n",
       "      <td>309xx</td>\n",
       "      <td>GA</td>\n",
       "      <td>Apr-99</td>\n",
       "      <td>9.40%</td>\n",
       "      <td>Apr-13</td>\n",
       "      <td>Sep-13</td>\n",
       "    </tr>\n",
       "    <tr>\n",
       "      <th>2</th>\n",
       "      <td>36 months</td>\n",
       "      <td>15.96%</td>\n",
       "      <td>C</td>\n",
       "      <td>C5</td>\n",
       "      <td>NaN</td>\n",
       "      <td>10+ years</td>\n",
       "      <td>RENT</td>\n",
       "      <td>Not Verified</td>\n",
       "      <td>Dec-11</td>\n",
       "      <td>Fully Paid</td>\n",
       "      <td>https://lendingclub.com/browse/loanDetail.acti...</td>\n",
       "      <td>NaN</td>\n",
       "      <td>small_business</td>\n",
       "      <td>real estate business</td>\n",
       "      <td>606xx</td>\n",
       "      <td>IL</td>\n",
       "      <td>Nov-01</td>\n",
       "      <td>98.50%</td>\n",
       "      <td>Jun-14</td>\n",
       "      <td>May-16</td>\n",
       "    </tr>\n",
       "    <tr>\n",
       "      <th>3</th>\n",
       "      <td>36 months</td>\n",
       "      <td>13.49%</td>\n",
       "      <td>C</td>\n",
       "      <td>C1</td>\n",
       "      <td>AIR RESOURCES BOARD</td>\n",
       "      <td>10+ years</td>\n",
       "      <td>RENT</td>\n",
       "      <td>Source Verified</td>\n",
       "      <td>Dec-11</td>\n",
       "      <td>Fully Paid</td>\n",
       "      <td>https://lendingclub.com/browse/loanDetail.acti...</td>\n",
       "      <td>Borrower added on 12/21/11 &gt; to pay for prop...</td>\n",
       "      <td>other</td>\n",
       "      <td>personel</td>\n",
       "      <td>917xx</td>\n",
       "      <td>CA</td>\n",
       "      <td>Feb-96</td>\n",
       "      <td>21%</td>\n",
       "      <td>Jan-15</td>\n",
       "      <td>Apr-16</td>\n",
       "    </tr>\n",
       "    <tr>\n",
       "      <th>4</th>\n",
       "      <td>60 months</td>\n",
       "      <td>12.69%</td>\n",
       "      <td>B</td>\n",
       "      <td>B5</td>\n",
       "      <td>University Medical Group</td>\n",
       "      <td>1 year</td>\n",
       "      <td>RENT</td>\n",
       "      <td>Source Verified</td>\n",
       "      <td>Dec-11</td>\n",
       "      <td>Current</td>\n",
       "      <td>https://lendingclub.com/browse/loanDetail.acti...</td>\n",
       "      <td>Borrower added on 12/21/11 &gt; I plan on combi...</td>\n",
       "      <td>other</td>\n",
       "      <td>Personal</td>\n",
       "      <td>972xx</td>\n",
       "      <td>OR</td>\n",
       "      <td>Jan-96</td>\n",
       "      <td>53.90%</td>\n",
       "      <td>May-16</td>\n",
       "      <td>May-16</td>\n",
       "    </tr>\n",
       "  </tbody>\n",
       "</table>\n",
       "</div>"
      ],
      "text/plain": [
       "         term int_rate grade sub_grade                 emp_title emp_length  \\\n",
       "0   36 months   10.65%     B        B2                       NaN  10+ years   \n",
       "1   60 months   15.27%     C        C4                     Ryder   < 1 year   \n",
       "2   36 months   15.96%     C        C5                       NaN  10+ years   \n",
       "3   36 months   13.49%     C        C1       AIR RESOURCES BOARD  10+ years   \n",
       "4   60 months   12.69%     B        B5  University Medical Group     1 year   \n",
       "\n",
       "  home_ownership verification_status issue_d  loan_status  \\\n",
       "0           RENT            Verified  Dec-11   Fully Paid   \n",
       "1           RENT     Source Verified  Dec-11  Charged Off   \n",
       "2           RENT        Not Verified  Dec-11   Fully Paid   \n",
       "3           RENT     Source Verified  Dec-11   Fully Paid   \n",
       "4           RENT     Source Verified  Dec-11      Current   \n",
       "\n",
       "                                                 url  \\\n",
       "0  https://lendingclub.com/browse/loanDetail.acti...   \n",
       "1  https://lendingclub.com/browse/loanDetail.acti...   \n",
       "2  https://lendingclub.com/browse/loanDetail.acti...   \n",
       "3  https://lendingclub.com/browse/loanDetail.acti...   \n",
       "4  https://lendingclub.com/browse/loanDetail.acti...   \n",
       "\n",
       "                                                desc         purpose  \\\n",
       "0    Borrower added on 12/22/11 > I need to upgra...     credit_card   \n",
       "1    Borrower added on 12/22/11 > I plan to use t...             car   \n",
       "2                                                NaN  small_business   \n",
       "3    Borrower added on 12/21/11 > to pay for prop...           other   \n",
       "4    Borrower added on 12/21/11 > I plan on combi...           other   \n",
       "\n",
       "                  title zip_code addr_state earliest_cr_line revol_util  \\\n",
       "0              Computer    860xx         AZ           Jan-85     83.70%   \n",
       "1                  bike    309xx         GA           Apr-99      9.40%   \n",
       "2  real estate business    606xx         IL           Nov-01     98.50%   \n",
       "3              personel    917xx         CA           Feb-96        21%   \n",
       "4              Personal    972xx         OR           Jan-96     53.90%   \n",
       "\n",
       "  last_pymnt_d last_credit_pull_d  \n",
       "0       Jan-15             May-16  \n",
       "1       Apr-13             Sep-13  \n",
       "2       Jun-14             May-16  \n",
       "3       Jan-15             Apr-16  \n",
       "4       May-16             May-16  "
      ]
     },
     "execution_count": 628,
     "metadata": {},
     "output_type": "execute_result"
    }
   ],
   "source": [
    "loan_all.select_dtypes(include=['object']).head()"
   ]
  },
  {
   "cell_type": "markdown",
   "id": "947fa564",
   "metadata": {},
   "source": [
    "### 4. Converting the following fields from Object type to Int/float\n",
    "\n",
    "* term  (Renaming \"term\" to \"term_months\" Removing \"months\" from data)\n",
    "* int_rate (removing % from data)\n",
    "* revol_util (Renaming \"revol_util_percent\" removing % from data )\n",
    "\n",
    "\n",
    "### 5. Renaming and Adding years in date column\n",
    "\n",
    "* issue_d             - >  \"issue_date\" and Adding Years\n",
    "* earliest_cr_line    - >  Adding Years\n",
    "* last_pymnt_d        - >  \"last_pymnt_date\" and Adding Years\n",
    "* last_credit_pull_d  - >  \"last_credit_pull_date\" and Adding Years\n",
    "\n",
    "### 6. Replacing XX to blank in Zipcode\n",
    "\n",
    "\n",
    "### 7. Dropping other non-required columns\n",
    "\n",
    "\n",
    "### 9. Replacing \"emp_title\" = \"Self-Employed\"\n",
    "\n",
    "\n",
    "### 8. Extracting all Current loans to another list loan_curr and Removing from loan_all\n"
   ]
  },
  {
   "cell_type": "code",
   "execution_count": 629,
   "id": "1b353e30",
   "metadata": {},
   "outputs": [],
   "source": [
    "# Uncomment all lines and Run Once only\n",
    "def removePercent(x):\n",
    "    return float(x[:-1]) if str(x)[-1]==\"%\" else x\n",
    "\n",
    "loan_all[\"term_months\"] = loan_all[\"term\"].apply(lambda x: int(x[0:3]))\n",
    "loan_all[\"int_rate\"] = loan_all[\"int_rate\"].apply(removePercent)\n",
    "loan_all[\"revol_util_percent\"] = loan_all[\"revol_util\"].apply(removePercent)\n",
    "\n",
    "def addCentury(x):\n",
    "    if str(x)[-2:]==\"an\":\n",
    "        return \"No Date\"\n",
    "    else:\n",
    "        return str(x)[:-2]+str(20)+str(x)[-2:] if int(str(x)[-2:])<22 else str(x)[:-2]+str(19)+str(x)[-2:]\n",
    "\n",
    "loan_all[\"issue_date\"] = loan_all[\"issue_d\"].apply(addCentury)\n",
    "loan_all[\"earliest_cr_line\"] = loan_all[\"earliest_cr_line\"].apply(addCentury)\n",
    "loan_all[\"last_pymnt_date\"] = loan_all[\"last_pymnt_d\"].apply(addCentury)\n",
    "loan_all[\"last_credit_pull_date\"] = loan_all[\"last_credit_pull_d\"].apply(addCentury)\n",
    "\n",
    "# Replacing XX to blank in Zipcode\n",
    "loan_all[\"zip_code\"] = loan_all[\"zip_code\"].apply(lambda x: int(x.rstrip(\"xx\")))\n",
    "# Dropping the non required/duplicated columns\n",
    "loan_all = loan_all.drop(columns=[\"term\", \"revol_util\", \"issue_d\", \"last_pymnt_d\", \"last_credit_pull_d\"], axis=1)\n",
    "\n",
    "# Dropping other non-required columns\n",
    "loan_all = loan_all.drop(columns=[\"url\",\"id\",\"desc\"], axis=1)\n",
    "\n",
    "# Replacing \"emp_title\" = \"Self-Employed\" (if \"emp_title\" is null and \"purpose\" is \"small_business\")\n",
    "def updateTitle(x):\n",
    "    if (pd.isnull(x[\"emp_title\"]) & (x[\"purpose\"]==\"small_business\")):\n",
    "        return \"Self-Employed\"\n",
    "    else:\n",
    "        return x[\"emp_title\"]\n",
    "\n",
    "loan_all[\"emp_title\"]=loan_all.loc[:,[\"emp_title\", \"purpose\"]].apply(updateTitle, axis=1)\n",
    "\n",
    "\n",
    "## Extracting all Current loans to another list loan_curr and Removing from loan_all\n",
    "loan_curr = loan_all[loan_all.loan_status==\"Current\"]\n",
    "loan_all = loan_all[-(loan_all.loan_status==\"Current\")]"
   ]
  },
  {
   "cell_type": "code",
   "execution_count": 630,
   "id": "213bf47a",
   "metadata": {},
   "outputs": [
    {
     "data": {
      "text/plain": [
       "Self-Employed                               356\n",
       "US Army                                     131\n",
       "Bank of America                             107\n",
       "IBM                                          65\n",
       "AT&T                                         57\n",
       "                                           ... \n",
       "Net Equity Financial                          1\n",
       "Kernersville Fire Department                  1\n",
       "The Keith Corp. (empl by county, now Kei      1\n",
       "Bertie Middle School                          1\n",
       "Evergreen Center                              1\n",
       "Name: emp_title, Length: 28027, dtype: int64"
      ]
     },
     "execution_count": 630,
     "metadata": {},
     "output_type": "execute_result"
    }
   ],
   "source": [
    "loan_all.emp_title.value_counts()"
   ]
  },
  {
   "cell_type": "code",
   "execution_count": 551,
   "id": "6c757273",
   "metadata": {},
   "outputs": [
    {
     "data": {
      "text/plain": [
       "debt_consolidation    804\n",
       "credit_card           300\n",
       "other                 272\n",
       "home_improvement      208\n",
       "major_purchase        146\n",
       "car                    84\n",
       "medical                47\n",
       "moving                 40\n",
       "vacation               37\n",
       "wedding                35\n",
       "house                  30\n",
       "educational            26\n",
       "renewable_energy       14\n",
       "Name: purpose, dtype: int64"
      ]
     },
     "execution_count": 551,
     "metadata": {},
     "output_type": "execute_result"
    }
   ],
   "source": [
    "loan_all.select_dtypes(include=['object'])[(loan_all.emp_title.isnull())][\"purpose\"].value_counts()\n",
    "# loan[\"url\"].value_counts()"
   ]
  },
  {
   "cell_type": "code",
   "execution_count": 631,
   "id": "d0e98853",
   "metadata": {},
   "outputs": [
    {
     "data": {
      "text/plain": [
       "Debt Consolidation           88\n",
       "Debt Consolidation Loan      70\n",
       "debt consolidation           31\n",
       "Personal Loan                26\n",
       "Other Loan                   20\n",
       "                             ..\n",
       "IVF                           1\n",
       "Debt Consolidation loan       1\n",
       "Marriage                      1\n",
       "Bathroom Home Improvement     1\n",
       "JAL Loan                      1\n",
       "Name: title, Length: 1394, dtype: int64"
      ]
     },
     "execution_count": 631,
     "metadata": {},
     "output_type": "execute_result"
    }
   ],
   "source": [
    "loan_all.select_dtypes(include=['object'])[(loan_all.emp_title.isnull())][\"title\"].value_counts()\n",
    "# loan[\"url\"].value_counts()"
   ]
  },
  {
   "cell_type": "code",
   "execution_count": 634,
   "id": "f03eb8c8",
   "metadata": {},
   "outputs": [
    {
     "data": {
      "text/html": [
       "<div>\n",
       "<style scoped>\n",
       "    .dataframe tbody tr th:only-of-type {\n",
       "        vertical-align: middle;\n",
       "    }\n",
       "\n",
       "    .dataframe tbody tr th {\n",
       "        vertical-align: top;\n",
       "    }\n",
       "\n",
       "    .dataframe thead th {\n",
       "        text-align: right;\n",
       "    }\n",
       "</style>\n",
       "<table border=\"1\" class=\"dataframe\">\n",
       "  <thead>\n",
       "    <tr style=\"text-align: right;\">\n",
       "      <th></th>\n",
       "      <th>grade</th>\n",
       "      <th>sub_grade</th>\n",
       "      <th>emp_title</th>\n",
       "      <th>emp_length</th>\n",
       "      <th>home_ownership</th>\n",
       "      <th>verification_status</th>\n",
       "      <th>loan_status</th>\n",
       "      <th>purpose</th>\n",
       "      <th>title</th>\n",
       "      <th>addr_state</th>\n",
       "      <th>earliest_cr_line</th>\n",
       "      <th>issue_date</th>\n",
       "      <th>last_pymnt_date</th>\n",
       "      <th>last_credit_pull_date</th>\n",
       "    </tr>\n",
       "  </thead>\n",
       "  <tbody>\n",
       "    <tr>\n",
       "      <th>0</th>\n",
       "      <td>B</td>\n",
       "      <td>B2</td>\n",
       "      <td>NaN</td>\n",
       "      <td>10+ years</td>\n",
       "      <td>RENT</td>\n",
       "      <td>Verified</td>\n",
       "      <td>Fully Paid</td>\n",
       "      <td>credit_card</td>\n",
       "      <td>Computer</td>\n",
       "      <td>AZ</td>\n",
       "      <td>Jan-1985</td>\n",
       "      <td>Dec-2011</td>\n",
       "      <td>Jan-2015</td>\n",
       "      <td>May-2016</td>\n",
       "    </tr>\n",
       "    <tr>\n",
       "      <th>1</th>\n",
       "      <td>C</td>\n",
       "      <td>C4</td>\n",
       "      <td>Ryder</td>\n",
       "      <td>&lt; 1 year</td>\n",
       "      <td>RENT</td>\n",
       "      <td>Source Verified</td>\n",
       "      <td>Charged Off</td>\n",
       "      <td>car</td>\n",
       "      <td>bike</td>\n",
       "      <td>GA</td>\n",
       "      <td>Apr-1999</td>\n",
       "      <td>Dec-2011</td>\n",
       "      <td>Apr-2013</td>\n",
       "      <td>Sep-2013</td>\n",
       "    </tr>\n",
       "    <tr>\n",
       "      <th>2</th>\n",
       "      <td>C</td>\n",
       "      <td>C5</td>\n",
       "      <td>Self-Employed</td>\n",
       "      <td>10+ years</td>\n",
       "      <td>RENT</td>\n",
       "      <td>Not Verified</td>\n",
       "      <td>Fully Paid</td>\n",
       "      <td>small_business</td>\n",
       "      <td>real estate business</td>\n",
       "      <td>IL</td>\n",
       "      <td>Nov-2001</td>\n",
       "      <td>Dec-2011</td>\n",
       "      <td>Jun-2014</td>\n",
       "      <td>May-2016</td>\n",
       "    </tr>\n",
       "    <tr>\n",
       "      <th>3</th>\n",
       "      <td>C</td>\n",
       "      <td>C1</td>\n",
       "      <td>AIR RESOURCES BOARD</td>\n",
       "      <td>10+ years</td>\n",
       "      <td>RENT</td>\n",
       "      <td>Source Verified</td>\n",
       "      <td>Fully Paid</td>\n",
       "      <td>other</td>\n",
       "      <td>personel</td>\n",
       "      <td>CA</td>\n",
       "      <td>Feb-1996</td>\n",
       "      <td>Dec-2011</td>\n",
       "      <td>Jan-2015</td>\n",
       "      <td>Apr-2016</td>\n",
       "    </tr>\n",
       "    <tr>\n",
       "      <th>5</th>\n",
       "      <td>A</td>\n",
       "      <td>A4</td>\n",
       "      <td>Veolia Transportaton</td>\n",
       "      <td>3 years</td>\n",
       "      <td>RENT</td>\n",
       "      <td>Source Verified</td>\n",
       "      <td>Fully Paid</td>\n",
       "      <td>wedding</td>\n",
       "      <td>My wedding loan I promise to pay back</td>\n",
       "      <td>AZ</td>\n",
       "      <td>Nov-2004</td>\n",
       "      <td>Dec-2011</td>\n",
       "      <td>Jan-2015</td>\n",
       "      <td>Jan-2016</td>\n",
       "    </tr>\n",
       "  </tbody>\n",
       "</table>\n",
       "</div>"
      ],
      "text/plain": [
       "  grade sub_grade             emp_title emp_length home_ownership  \\\n",
       "0     B        B2                   NaN  10+ years           RENT   \n",
       "1     C        C4                 Ryder   < 1 year           RENT   \n",
       "2     C        C5         Self-Employed  10+ years           RENT   \n",
       "3     C        C1   AIR RESOURCES BOARD  10+ years           RENT   \n",
       "5     A        A4  Veolia Transportaton    3 years           RENT   \n",
       "\n",
       "  verification_status  loan_status         purpose  \\\n",
       "0            Verified   Fully Paid     credit_card   \n",
       "1     Source Verified  Charged Off             car   \n",
       "2        Not Verified   Fully Paid  small_business   \n",
       "3     Source Verified   Fully Paid           other   \n",
       "5     Source Verified   Fully Paid         wedding   \n",
       "\n",
       "                                   title addr_state earliest_cr_line  \\\n",
       "0                               Computer         AZ         Jan-1985   \n",
       "1                                   bike         GA         Apr-1999   \n",
       "2                   real estate business         IL         Nov-2001   \n",
       "3                               personel         CA         Feb-1996   \n",
       "5  My wedding loan I promise to pay back         AZ         Nov-2004   \n",
       "\n",
       "  issue_date last_pymnt_date last_credit_pull_date  \n",
       "0   Dec-2011        Jan-2015              May-2016  \n",
       "1   Dec-2011        Apr-2013              Sep-2013  \n",
       "2   Dec-2011        Jun-2014              May-2016  \n",
       "3   Dec-2011        Jan-2015              Apr-2016  \n",
       "5   Dec-2011        Jan-2015              Jan-2016  "
      ]
     },
     "execution_count": 634,
     "metadata": {},
     "output_type": "execute_result"
    }
   ],
   "source": [
    "loan_all.select_dtypes(include=['object']).head()"
   ]
  },
  {
   "cell_type": "code",
   "execution_count": 635,
   "id": "1eb30e1b",
   "metadata": {},
   "outputs": [
    {
     "data": {
      "text/html": [
       "<div>\n",
       "<style scoped>\n",
       "    .dataframe tbody tr th:only-of-type {\n",
       "        vertical-align: middle;\n",
       "    }\n",
       "\n",
       "    .dataframe tbody tr th {\n",
       "        vertical-align: top;\n",
       "    }\n",
       "\n",
       "    .dataframe thead th {\n",
       "        text-align: right;\n",
       "    }\n",
       "</style>\n",
       "<table border=\"1\" class=\"dataframe\">\n",
       "  <thead>\n",
       "    <tr style=\"text-align: right;\">\n",
       "      <th></th>\n",
       "      <th>member_id</th>\n",
       "      <th>loan_amnt</th>\n",
       "      <th>funded_amnt</th>\n",
       "      <th>zip_code</th>\n",
       "      <th>delinq_2yrs</th>\n",
       "      <th>inq_last_6mths</th>\n",
       "      <th>open_acc</th>\n",
       "      <th>pub_rec</th>\n",
       "      <th>revol_bal</th>\n",
       "      <th>total_acc</th>\n",
       "      <th>term_months</th>\n",
       "      <th>issue_month</th>\n",
       "      <th>issue_year</th>\n",
       "    </tr>\n",
       "  </thead>\n",
       "  <tbody>\n",
       "    <tr>\n",
       "      <th>0</th>\n",
       "      <td>1296599</td>\n",
       "      <td>5000</td>\n",
       "      <td>5000</td>\n",
       "      <td>860</td>\n",
       "      <td>0</td>\n",
       "      <td>1</td>\n",
       "      <td>3</td>\n",
       "      <td>0</td>\n",
       "      <td>13648</td>\n",
       "      <td>9</td>\n",
       "      <td>36</td>\n",
       "      <td>12</td>\n",
       "      <td>2011</td>\n",
       "    </tr>\n",
       "    <tr>\n",
       "      <th>1</th>\n",
       "      <td>1314167</td>\n",
       "      <td>2500</td>\n",
       "      <td>2500</td>\n",
       "      <td>309</td>\n",
       "      <td>0</td>\n",
       "      <td>5</td>\n",
       "      <td>3</td>\n",
       "      <td>0</td>\n",
       "      <td>1687</td>\n",
       "      <td>4</td>\n",
       "      <td>60</td>\n",
       "      <td>12</td>\n",
       "      <td>2011</td>\n",
       "    </tr>\n",
       "    <tr>\n",
       "      <th>2</th>\n",
       "      <td>1313524</td>\n",
       "      <td>2400</td>\n",
       "      <td>2400</td>\n",
       "      <td>606</td>\n",
       "      <td>0</td>\n",
       "      <td>2</td>\n",
       "      <td>2</td>\n",
       "      <td>0</td>\n",
       "      <td>2956</td>\n",
       "      <td>10</td>\n",
       "      <td>36</td>\n",
       "      <td>12</td>\n",
       "      <td>2011</td>\n",
       "    </tr>\n",
       "    <tr>\n",
       "      <th>3</th>\n",
       "      <td>1277178</td>\n",
       "      <td>10000</td>\n",
       "      <td>10000</td>\n",
       "      <td>917</td>\n",
       "      <td>0</td>\n",
       "      <td>1</td>\n",
       "      <td>10</td>\n",
       "      <td>0</td>\n",
       "      <td>5598</td>\n",
       "      <td>37</td>\n",
       "      <td>36</td>\n",
       "      <td>12</td>\n",
       "      <td>2011</td>\n",
       "    </tr>\n",
       "    <tr>\n",
       "      <th>5</th>\n",
       "      <td>1311441</td>\n",
       "      <td>5000</td>\n",
       "      <td>5000</td>\n",
       "      <td>852</td>\n",
       "      <td>0</td>\n",
       "      <td>3</td>\n",
       "      <td>9</td>\n",
       "      <td>0</td>\n",
       "      <td>7963</td>\n",
       "      <td>12</td>\n",
       "      <td>36</td>\n",
       "      <td>12</td>\n",
       "      <td>2011</td>\n",
       "    </tr>\n",
       "  </tbody>\n",
       "</table>\n",
       "</div>"
      ],
      "text/plain": [
       "   member_id  loan_amnt  funded_amnt  zip_code  delinq_2yrs  inq_last_6mths  \\\n",
       "0    1296599       5000         5000       860            0               1   \n",
       "1    1314167       2500         2500       309            0               5   \n",
       "2    1313524       2400         2400       606            0               2   \n",
       "3    1277178      10000        10000       917            0               1   \n",
       "5    1311441       5000         5000       852            0               3   \n",
       "\n",
       "   open_acc  pub_rec  revol_bal  total_acc  term_months  issue_month  \\\n",
       "0         3        0      13648          9           36           12   \n",
       "1         3        0       1687          4           60           12   \n",
       "2         2        0       2956         10           36           12   \n",
       "3        10        0       5598         37           36           12   \n",
       "5         9        0       7963         12           36           12   \n",
       "\n",
       "   issue_year  \n",
       "0        2011  \n",
       "1        2011  \n",
       "2        2011  \n",
       "3        2011  \n",
       "5        2011  "
      ]
     },
     "execution_count": 635,
     "metadata": {},
     "output_type": "execute_result"
    }
   ],
   "source": [
    "loan_all.select_dtypes(include=['int']).head()"
   ]
  },
  {
   "cell_type": "code",
   "execution_count": 636,
   "id": "06aa2640",
   "metadata": {},
   "outputs": [
    {
     "data": {
      "text/html": [
       "<div>\n",
       "<style scoped>\n",
       "    .dataframe tbody tr th:only-of-type {\n",
       "        vertical-align: middle;\n",
       "    }\n",
       "\n",
       "    .dataframe tbody tr th {\n",
       "        vertical-align: top;\n",
       "    }\n",
       "\n",
       "    .dataframe thead th {\n",
       "        text-align: right;\n",
       "    }\n",
       "</style>\n",
       "<table border=\"1\" class=\"dataframe\">\n",
       "  <thead>\n",
       "    <tr style=\"text-align: right;\">\n",
       "      <th></th>\n",
       "      <th>funded_amnt_inv</th>\n",
       "      <th>int_rate</th>\n",
       "      <th>installment</th>\n",
       "      <th>annual_inc</th>\n",
       "      <th>dti</th>\n",
       "      <th>out_prncp</th>\n",
       "      <th>out_prncp_inv</th>\n",
       "      <th>total_pymnt</th>\n",
       "      <th>total_pymnt_inv</th>\n",
       "      <th>total_rec_prncp</th>\n",
       "      <th>total_rec_int</th>\n",
       "      <th>total_rec_late_fee</th>\n",
       "      <th>recoveries</th>\n",
       "      <th>collection_recovery_fee</th>\n",
       "      <th>last_pymnt_amnt</th>\n",
       "      <th>pub_rec_bankruptcies</th>\n",
       "      <th>revol_util_percent</th>\n",
       "    </tr>\n",
       "  </thead>\n",
       "  <tbody>\n",
       "    <tr>\n",
       "      <th>0</th>\n",
       "      <td>4975.0</td>\n",
       "      <td>10.65</td>\n",
       "      <td>162.87</td>\n",
       "      <td>24000.0</td>\n",
       "      <td>27.65</td>\n",
       "      <td>0.0</td>\n",
       "      <td>0.0</td>\n",
       "      <td>5863.155187</td>\n",
       "      <td>5833.84</td>\n",
       "      <td>5000.00</td>\n",
       "      <td>863.16</td>\n",
       "      <td>0.00</td>\n",
       "      <td>0.00</td>\n",
       "      <td>0.00</td>\n",
       "      <td>171.62</td>\n",
       "      <td>0.0</td>\n",
       "      <td>83.7</td>\n",
       "    </tr>\n",
       "    <tr>\n",
       "      <th>1</th>\n",
       "      <td>2500.0</td>\n",
       "      <td>15.27</td>\n",
       "      <td>59.83</td>\n",
       "      <td>30000.0</td>\n",
       "      <td>1.00</td>\n",
       "      <td>0.0</td>\n",
       "      <td>0.0</td>\n",
       "      <td>1008.710000</td>\n",
       "      <td>1008.71</td>\n",
       "      <td>456.46</td>\n",
       "      <td>435.17</td>\n",
       "      <td>0.00</td>\n",
       "      <td>117.08</td>\n",
       "      <td>1.11</td>\n",
       "      <td>119.66</td>\n",
       "      <td>0.0</td>\n",
       "      <td>9.4</td>\n",
       "    </tr>\n",
       "    <tr>\n",
       "      <th>2</th>\n",
       "      <td>2400.0</td>\n",
       "      <td>15.96</td>\n",
       "      <td>84.33</td>\n",
       "      <td>12252.0</td>\n",
       "      <td>8.72</td>\n",
       "      <td>0.0</td>\n",
       "      <td>0.0</td>\n",
       "      <td>3005.666844</td>\n",
       "      <td>3005.67</td>\n",
       "      <td>2400.00</td>\n",
       "      <td>605.67</td>\n",
       "      <td>0.00</td>\n",
       "      <td>0.00</td>\n",
       "      <td>0.00</td>\n",
       "      <td>649.91</td>\n",
       "      <td>0.0</td>\n",
       "      <td>98.5</td>\n",
       "    </tr>\n",
       "    <tr>\n",
       "      <th>3</th>\n",
       "      <td>10000.0</td>\n",
       "      <td>13.49</td>\n",
       "      <td>339.31</td>\n",
       "      <td>49200.0</td>\n",
       "      <td>20.00</td>\n",
       "      <td>0.0</td>\n",
       "      <td>0.0</td>\n",
       "      <td>12231.890000</td>\n",
       "      <td>12231.89</td>\n",
       "      <td>10000.00</td>\n",
       "      <td>2214.92</td>\n",
       "      <td>16.97</td>\n",
       "      <td>0.00</td>\n",
       "      <td>0.00</td>\n",
       "      <td>357.48</td>\n",
       "      <td>0.0</td>\n",
       "      <td>21.0</td>\n",
       "    </tr>\n",
       "    <tr>\n",
       "      <th>5</th>\n",
       "      <td>5000.0</td>\n",
       "      <td>7.90</td>\n",
       "      <td>156.46</td>\n",
       "      <td>36000.0</td>\n",
       "      <td>11.20</td>\n",
       "      <td>0.0</td>\n",
       "      <td>0.0</td>\n",
       "      <td>5632.210000</td>\n",
       "      <td>5632.21</td>\n",
       "      <td>5000.00</td>\n",
       "      <td>632.21</td>\n",
       "      <td>0.00</td>\n",
       "      <td>0.00</td>\n",
       "      <td>0.00</td>\n",
       "      <td>161.03</td>\n",
       "      <td>0.0</td>\n",
       "      <td>28.3</td>\n",
       "    </tr>\n",
       "  </tbody>\n",
       "</table>\n",
       "</div>"
      ],
      "text/plain": [
       "   funded_amnt_inv  int_rate  installment  annual_inc    dti  out_prncp  \\\n",
       "0           4975.0     10.65       162.87     24000.0  27.65        0.0   \n",
       "1           2500.0     15.27        59.83     30000.0   1.00        0.0   \n",
       "2           2400.0     15.96        84.33     12252.0   8.72        0.0   \n",
       "3          10000.0     13.49       339.31     49200.0  20.00        0.0   \n",
       "5           5000.0      7.90       156.46     36000.0  11.20        0.0   \n",
       "\n",
       "   out_prncp_inv   total_pymnt  total_pymnt_inv  total_rec_prncp  \\\n",
       "0            0.0   5863.155187          5833.84          5000.00   \n",
       "1            0.0   1008.710000          1008.71           456.46   \n",
       "2            0.0   3005.666844          3005.67          2400.00   \n",
       "3            0.0  12231.890000         12231.89         10000.00   \n",
       "5            0.0   5632.210000          5632.21          5000.00   \n",
       "\n",
       "   total_rec_int  total_rec_late_fee  recoveries  collection_recovery_fee  \\\n",
       "0         863.16                0.00        0.00                     0.00   \n",
       "1         435.17                0.00      117.08                     1.11   \n",
       "2         605.67                0.00        0.00                     0.00   \n",
       "3        2214.92               16.97        0.00                     0.00   \n",
       "5         632.21                0.00        0.00                     0.00   \n",
       "\n",
       "   last_pymnt_amnt  pub_rec_bankruptcies  revol_util_percent  \n",
       "0           171.62                   0.0                83.7  \n",
       "1           119.66                   0.0                 9.4  \n",
       "2           649.91                   0.0                98.5  \n",
       "3           357.48                   0.0                21.0  \n",
       "5           161.03                   0.0                28.3  "
      ]
     },
     "execution_count": 636,
     "metadata": {},
     "output_type": "execute_result"
    }
   ],
   "source": [
    "loan_all.select_dtypes(include=['float']).head()"
   ]
  },
  {
   "cell_type": "markdown",
   "id": "d4963f42",
   "metadata": {},
   "source": [
    "# 3.  Derived Columns\n",
    "### 1. Extracting  \"issue_month\" and  \"issue_year\" from  \"issue_date\""
   ]
  },
  {
   "cell_type": "code",
   "execution_count": 820,
   "id": "a1101ff3",
   "metadata": {},
   "outputs": [],
   "source": [
    "loan_all[\"issue_month\"]=pd.DatetimeIndex(loan_all.issue_date).month\n",
    "loan_all[\"issue_year\"]=pd.DatetimeIndex(loan_all.issue_date).year"
   ]
  },
  {
   "cell_type": "markdown",
   "id": "c314bc29",
   "metadata": {},
   "source": [
    "### 2. Make segments of int_rate."
   ]
  },
  {
   "cell_type": "code",
   "execution_count": 647,
   "id": "26fe73ac",
   "metadata": {},
   "outputs": [
    {
     "data": {
      "text/plain": [
       "count    38577.000000\n",
       "mean        11.932219\n",
       "std          3.691327\n",
       "min          5.420000\n",
       "25%          8.940000\n",
       "50%         11.710000\n",
       "75%         14.380000\n",
       "max         24.400000\n",
       "Name: int_rate, dtype: float64"
      ]
     },
     "execution_count": 647,
     "metadata": {},
     "output_type": "execute_result"
    }
   ],
   "source": [
    "loan_all.int_rate.describe()\n",
    "# Since min int_rate is 5.42 and max >24.4 making 5 segments from 5 to 25."
   ]
  },
  {
   "cell_type": "code",
   "execution_count": 665,
   "id": "3b8cb189",
   "metadata": {},
   "outputs": [
    {
     "data": {
      "text/plain": [
       "0-10     12067\n",
       "10-13    11931\n",
       "13-16     9076\n",
       "16-19     4103\n",
       ">19       1400\n",
       "Name: int_rate_category, dtype: int64"
      ]
     },
     "execution_count": 665,
     "metadata": {},
     "output_type": "execute_result"
    }
   ],
   "source": [
    "def makeRateGroups(x):\n",
    "    if x<10:\n",
    "        return \"0-10\"\n",
    "    elif x<13:\n",
    "        return \"10-13\"\n",
    "    elif x<16:\n",
    "        return \"13-16\"\n",
    "    elif x<19:\n",
    "        return \"16-19\"\n",
    "    elif x>=19:\n",
    "        return \">19\"\n",
    "\n",
    "# Make groups of int_rate.\n",
    "loan_all['int_rate_category'] = loan_all.int_rate.apply(makeRateGroups)\n",
    "loan_all['int_rate_category'].value_counts()"
   ]
  },
  {
   "cell_type": "markdown",
   "id": "79ee1160",
   "metadata": {},
   "source": [
    "### 3. Make segments of dti."
   ]
  },
  {
   "cell_type": "code",
   "execution_count": 666,
   "id": "7c861117",
   "metadata": {},
   "outputs": [
    {
     "data": {
      "text/plain": [
       "0-10     12905\n",
       ">19       8899\n",
       "13-16     5860\n",
       "10-13     5666\n",
       "16-19     5247\n",
       "Name: dti_category, dtype: int64"
      ]
     },
     "execution_count": 666,
     "metadata": {},
     "output_type": "execute_result"
    }
   ],
   "source": [
    "# Using the same segments used in \"int_rate\" for \"dti\"\n",
    "loan_all['dti_category'] = loan_all.dti.apply(makeRateGroups)\n",
    "loan_all['dti_category'].value_counts()"
   ]
  },
  {
   "cell_type": "markdown",
   "id": "23c6190c",
   "metadata": {},
   "source": [
    "### 4. Make segments of Amount."
   ]
  },
  {
   "cell_type": "code",
   "execution_count": 656,
   "id": "3e3a96b6",
   "metadata": {},
   "outputs": [
    {
     "data": {
      "text/plain": [
       "count    38577.000000\n",
       "mean     11047.025430\n",
       "std       7348.441646\n",
       "min        500.000000\n",
       "25%       5300.000000\n",
       "50%       9600.000000\n",
       "75%      15000.000000\n",
       "max      35000.000000\n",
       "Name: loan_amnt, dtype: float64"
      ]
     },
     "execution_count": 656,
     "metadata": {},
     "output_type": "execute_result"
    }
   ],
   "source": [
    "loan_all.loan_amnt.describe()\n",
    "# Since min int_rate is 500 and max 35000 making 5 segments from 500 to 35000."
   ]
  },
  {
   "cell_type": "code",
   "execution_count": 815,
   "id": "796b1807",
   "metadata": {},
   "outputs": [
    {
     "data": {
      "image/png": "[encoded data removed]",
      "text/plain": [
       "<Figure size 576x864 with 1 Axes>"
      ]
     },
     "metadata": {
      "needs_background": "light"
     },
     "output_type": "display_data"
    }
   ],
   "source": [
    "plt.figure(figsize=[8,12])\n",
    "plt.ylabel(\"Loan Amount\")\n",
    "loan_all.loan_amnt.plot.box()\n",
    "plt.show()"
   ]
  },
  {
   "cell_type": "code",
   "execution_count": 691,
   "id": "00743a2d",
   "metadata": {},
   "outputs": [
    {
     "data": {
      "image/png": "[encoded data removed]",
      "text/plain": [
       "<Figure size 1152x432 with 1 Axes>"
      ]
     },
     "metadata": {
      "needs_background": "light"
     },
     "output_type": "display_data"
    }
   ],
   "source": [
    "plt.figure(figsize=[16,6])\n",
    "plt.xlabel(\"Loan Amount\")\n",
    "loan_all.loan_amnt.hist(bins=6)\n",
    "plt.show()"
   ]
  },
  {
   "cell_type": "code",
   "execution_count": 805,
   "id": "b41a3af3",
   "metadata": {},
   "outputs": [
    {
     "data": {
      "text/plain": [
       "5000-10000     12021\n",
       "10000-15000     8654\n",
       "0-5000          7444\n",
       "15000-20000     4651\n",
       "20000-25000     3045\n",
       ">25000          2762\n",
       "Name: loan_amnt_category, dtype: int64"
      ]
     },
     "execution_count": 805,
     "metadata": {},
     "output_type": "execute_result"
    }
   ],
   "source": [
    "def makeAmtGroups(x):\n",
    "    if x<5000:\n",
    "        return \"0-5000\"\n",
    "    elif x<10000:\n",
    "        return \"5000-10000\"\n",
    "    elif x<15000:\n",
    "        return \"10000-15000\"\n",
    "    elif x<20000:\n",
    "        return \"15000-20000\"\n",
    "    elif x<25000:\n",
    "        return \"20000-25000\"\n",
    "    elif x>=25000:\n",
    "        return \">25000\"\n",
    "\n",
    "# Make groups of int_rate.\n",
    "loan_all['loan_amnt_category'] = loan_all.loan_amnt.apply(makeAmtGroups)\n",
    "loan_all['loan_amnt_category'].value_counts()"
   ]
  },
  {
   "cell_type": "markdown",
   "id": "431402b1",
   "metadata": {},
   "source": [
    "# 4. Univariate Analysis"
   ]
  },
  {
   "cell_type": "code",
   "execution_count": 812,
   "id": "20070de4",
   "metadata": {},
   "outputs": [
    {
     "data": {
      "image/png": "[encoded data removed]",
      "text/plain": [
       "<Figure size 1080x432 with 1 Axes>"
      ]
     },
     "metadata": {
      "needs_background": "light"
     },
     "output_type": "display_data"
    }
   ],
   "source": [
    "#Univeriate analysis for Loan Amount Ranges\n",
    "plt.figure(figsize=[15,6])\n",
    "sns.countplot(x = 'loan_amnt_category', data=loan_all, \n",
    "              order = [\"0-5000\", \"5000-10000\", \"10000-15000\", \"15000-20000\", \"20000-25000\", \">25000\"])\n",
    "plt.xlabel(\"Loan Amount Range\", fontdict={'fontsize': 12, 'fontweight' : 5, 'color' : 'Brown'})\n",
    "plt.ylabel(\"Loan Counts\", fontdict={'fontsize': 12, 'fontweight' : 5, 'color' : 'Brown'} )\n",
    "plt.show()"
   ]
  },
  {
   "cell_type": "code",
   "execution_count": 811,
   "id": "3e2fd286",
   "metadata": {},
   "outputs": [
    {
     "data": {
      "image/png": "[encoded data removed]",
      "text/plain": [
       "<Figure size 1080x432 with 1 Axes>"
      ]
     },
     "metadata": {
      "needs_background": "light"
     },
     "output_type": "display_data"
    }
   ],
   "source": [
    "#Univeriate analysis for Interest Rate Ranges\n",
    "plt.figure(figsize=[15,6])\n",
    "sns.countplot(x = 'int_rate_category', data=loan_all, \n",
    "              order = [\"0-10\",\"10-13\",\"13-16\",\"16-19\",\">19\"])\n",
    "plt.xlabel(\"Interest Rate Range\", fontdict={'fontsize': 12, 'fontweight' : 5, 'color' : 'Brown'})\n",
    "plt.ylabel(\"Loan Counts\", fontdict={'fontsize': 12, 'fontweight' : 5, 'color' : 'Brown'} )\n",
    "plt.show()"
   ]
  },
  {
   "cell_type": "code",
   "execution_count": 816,
   "id": "20bc8973",
   "metadata": {},
   "outputs": [
    {
     "data": {
      "image/png": "[encoded data removed]",
      "text/plain": [
       "<Figure size 1152x432 with 1 Axes>"
      ]
     },
     "metadata": {
      "needs_background": "light"
     },
     "output_type": "display_data"
    }
   ],
   "source": [
    "plt.figure(figsize=[16,6])\n",
    "sns.boxplot(x = 'int_rate', data = loan_all, width=8)\n",
    "plt.show()"
   ]
  },
  {
   "cell_type": "code",
   "execution_count": 809,
   "id": "690a43c7",
   "metadata": {},
   "outputs": [
    {
     "data": {
      "image/png": "[encoded data removed]",
      "text/plain": [
       "<Figure size 864x288 with 1 Axes>"
      ]
     },
     "metadata": {
      "needs_background": "light"
     },
     "output_type": "display_data"
    }
   ],
   "source": [
    "#Univeriate analysis for Loan Status and percent of lons\n",
    "loan_status_per = pd.Series(loan_all.loan_status.value_counts()).apply(\n",
    "    lambda x: (x/loan_all.loan_status.value_counts().sum())*100)\n",
    "\n",
    "plt.ylabel(\"Loan Status\", fontdict={'fontsize': 12, 'fontweight' : 5, 'color' : 'Brown'})\n",
    "plt.xlabel(\"%\", fontdict={'fontsize': 12, 'fontweight' : 5, 'color' : 'Brown'} )\n",
    "loan_status_per.plot(kind=\"barh\", figsize=[12,4])\n",
    "plt.xticks(rotation=0)\n",
    "plt.show()"
   ]
  },
  {
   "cell_type": "code",
   "execution_count": 823,
   "id": "e87e902c",
   "metadata": {},
   "outputs": [
    {
     "data": {
      "image/png": "[encoded data removed]",
      "text/plain": [
       "<Figure size 1080x432 with 1 Axes>"
      ]
     },
     "metadata": {
      "needs_background": "light"
     },
     "output_type": "display_data"
    }
   ],
   "source": [
    "#Univeriate analysis for Loan disbursed yearly\n",
    "plt.figure(figsize=[15,6])\n",
    "sns.countplot(x = 'issue_year', data=loan_all)\n",
    "plt.xlabel(\"Year\", fontdict={'fontsize': 12, 'fontweight' : 5, 'color' : 'Brown'})\n",
    "plt.ylabel(\"Counts\", fontdict={'fontsize': 12, 'fontweight' : 5, 'color' : 'Brown'} )\n",
    "plt.show()"
   ]
  },
  {
   "cell_type": "markdown",
   "id": "2e5b4ee8",
   "metadata": {},
   "source": [
    "# 5. Bivariate Analysis"
   ]
  },
  {
   "cell_type": "code",
   "execution_count": 818,
   "id": "7351f1d8",
   "metadata": {},
   "outputs": [
    {
     "data": {
      "image/png": "[encoded data removed]",
      "text/plain": [
       "<Figure size 1080x432 with 1 Axes>"
      ]
     },
     "metadata": {
      "needs_background": "light"
     },
     "output_type": "display_data"
    }
   ],
   "source": [
    "plt.figure(figsize=[15,6])\n",
    "sns.countplot(x = 'grade', data = loan_all[loan_all.loan_status == 'Charged Off'], \n",
    "              order = ['A', 'B', 'C', 'D', 'E', 'F', 'G'])\n",
    "plt.xlabel(\"Grade\", fontdict={'fontsize': 12, 'fontweight' : 5, 'color' : 'Brown'})\n",
    "plt.ylabel(\"Counts\", fontdict={'fontsize': 12, 'fontweight' : 5, 'color' : 'Brown'} )\n",
    "plt.show()"
   ]
  },
  {
   "cell_type": "markdown",
   "id": "fd6ab965",
   "metadata": {},
   "source": [
    "# 6. Pairplot Analysis"
   ]
  },
  {
   "cell_type": "code",
   "execution_count": null,
   "id": "52a35197",
   "metadata": {},
   "outputs": [],
   "source": []
  },
  {
   "cell_type": "markdown",
   "id": "3056c80b",
   "metadata": {},
   "source": [
    "# 7. Segmented Univariate Analysis"
   ]
  },
  {
   "cell_type": "code",
   "execution_count": null,
   "id": "382a3e5a",
   "metadata": {},
   "outputs": [],
   "source": []
  }
 ],
 "metadata": {
  "kernelspec": {
   "display_name": "Python 3 (ipykernel)",
   "language": "python",
   "name": "python3"
  },
  "language_info": {
   "codemirror_mode": {
    "name": "ipython",
    "version": 3
   },
   "file_extension": ".py",
   "mimetype": "text/x-python",
   "name": "python",
   "nbconvert_exporter": "python",
   "pygments_lexer": "ipython3",
   "version": "3.9.7"
  }
 },
 "nbformat": 4,
 "nbformat_minor": 5
}
