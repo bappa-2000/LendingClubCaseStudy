{
 "cells": [
  {
   "cell_type": "code",
   "execution_count": 392,
   "id": "088b30f1",
   "metadata": {},
   "outputs": [],
   "source": [
    "import pandas as pd\n",
    "import numpy as np\n",
    "import datetime as datetime \n",
    "import matplotlib.pyplot as plt\n",
    "import seaborn as sns\n",
    "\n",
    "# Ignore warnings\n",
    "import warnings\n",
    "warnings.filterwarnings('ignore')"
   ]
  },
  {
   "cell_type": "markdown",
   "id": "b212dc75",
   "metadata": {},
   "source": [
    "# 1.  Data Load & Understanding\n",
    "###   1.1. Data Load"
   ]
  },
  {
   "cell_type": "code",
   "execution_count": 1142,
   "id": "dbc258e0",
   "metadata": {},
   "outputs": [
    {
     "data": {
      "text/html": [
       "<div>\n",
       "<style scoped>\n",
       "    .dataframe tbody tr th:only-of-type {\n",
       "        vertical-align: middle;\n",
       "    }\n",
       "\n",
       "    .dataframe tbody tr th {\n",
       "        vertical-align: top;\n",
       "    }\n",
       "\n",
       "    .dataframe thead th {\n",
       "        text-align: right;\n",
       "    }\n",
       "</style>\n",
       "<table border=\"1\" class=\"dataframe\">\n",
       "  <thead>\n",
       "    <tr style=\"text-align: right;\">\n",
       "      <th></th>\n",
       "      <th>id</th>\n",
       "      <th>member_id</th>\n",
       "      <th>loan_amnt</th>\n",
       "      <th>funded_amnt</th>\n",
       "      <th>funded_amnt_inv</th>\n",
       "      <th>term</th>\n",
       "      <th>int_rate</th>\n",
       "      <th>installment</th>\n",
       "      <th>grade</th>\n",
       "      <th>sub_grade</th>\n",
       "      <th>...</th>\n",
       "      <th>num_tl_90g_dpd_24m</th>\n",
       "      <th>num_tl_op_past_12m</th>\n",
       "      <th>pct_tl_nvr_dlq</th>\n",
       "      <th>percent_bc_gt_75</th>\n",
       "      <th>pub_rec_bankruptcies</th>\n",
       "      <th>tax_liens</th>\n",
       "      <th>tot_hi_cred_lim</th>\n",
       "      <th>total_bal_ex_mort</th>\n",
       "      <th>total_bc_limit</th>\n",
       "      <th>total_il_high_credit_limit</th>\n",
       "    </tr>\n",
       "  </thead>\n",
       "  <tbody>\n",
       "    <tr>\n",
       "      <th>0</th>\n",
       "      <td>1077501</td>\n",
       "      <td>1296599</td>\n",
       "      <td>5000</td>\n",
       "      <td>5000</td>\n",
       "      <td>4975.0</td>\n",
       "      <td>36 months</td>\n",
       "      <td>10.65%</td>\n",
       "      <td>162.87</td>\n",
       "      <td>B</td>\n",
       "      <td>B2</td>\n",
       "      <td>...</td>\n",
       "      <td>NaN</td>\n",
       "      <td>NaN</td>\n",
       "      <td>NaN</td>\n",
       "      <td>NaN</td>\n",
       "      <td>0.0</td>\n",
       "      <td>0.0</td>\n",
       "      <td>NaN</td>\n",
       "      <td>NaN</td>\n",
       "      <td>NaN</td>\n",
       "      <td>NaN</td>\n",
       "    </tr>\n",
       "    <tr>\n",
       "      <th>1</th>\n",
       "      <td>1077430</td>\n",
       "      <td>1314167</td>\n",
       "      <td>2500</td>\n",
       "      <td>2500</td>\n",
       "      <td>2500.0</td>\n",
       "      <td>60 months</td>\n",
       "      <td>15.27%</td>\n",
       "      <td>59.83</td>\n",
       "      <td>C</td>\n",
       "      <td>C4</td>\n",
       "      <td>...</td>\n",
       "      <td>NaN</td>\n",
       "      <td>NaN</td>\n",
       "      <td>NaN</td>\n",
       "      <td>NaN</td>\n",
       "      <td>0.0</td>\n",
       "      <td>0.0</td>\n",
       "      <td>NaN</td>\n",
       "      <td>NaN</td>\n",
       "      <td>NaN</td>\n",
       "      <td>NaN</td>\n",
       "    </tr>\n",
       "    <tr>\n",
       "      <th>2</th>\n",
       "      <td>1077175</td>\n",
       "      <td>1313524</td>\n",
       "      <td>2400</td>\n",
       "      <td>2400</td>\n",
       "      <td>2400.0</td>\n",
       "      <td>36 months</td>\n",
       "      <td>15.96%</td>\n",
       "      <td>84.33</td>\n",
       "      <td>C</td>\n",
       "      <td>C5</td>\n",
       "      <td>...</td>\n",
       "      <td>NaN</td>\n",
       "      <td>NaN</td>\n",
       "      <td>NaN</td>\n",
       "      <td>NaN</td>\n",
       "      <td>0.0</td>\n",
       "      <td>0.0</td>\n",
       "      <td>NaN</td>\n",
       "      <td>NaN</td>\n",
       "      <td>NaN</td>\n",
       "      <td>NaN</td>\n",
       "    </tr>\n",
       "    <tr>\n",
       "      <th>3</th>\n",
       "      <td>1076863</td>\n",
       "      <td>1277178</td>\n",
       "      <td>10000</td>\n",
       "      <td>10000</td>\n",
       "      <td>10000.0</td>\n",
       "      <td>36 months</td>\n",
       "      <td>13.49%</td>\n",
       "      <td>339.31</td>\n",
       "      <td>C</td>\n",
       "      <td>C1</td>\n",
       "      <td>...</td>\n",
       "      <td>NaN</td>\n",
       "      <td>NaN</td>\n",
       "      <td>NaN</td>\n",
       "      <td>NaN</td>\n",
       "      <td>0.0</td>\n",
       "      <td>0.0</td>\n",
       "      <td>NaN</td>\n",
       "      <td>NaN</td>\n",
       "      <td>NaN</td>\n",
       "      <td>NaN</td>\n",
       "    </tr>\n",
       "    <tr>\n",
       "      <th>4</th>\n",
       "      <td>1075358</td>\n",
       "      <td>1311748</td>\n",
       "      <td>3000</td>\n",
       "      <td>3000</td>\n",
       "      <td>3000.0</td>\n",
       "      <td>60 months</td>\n",
       "      <td>12.69%</td>\n",
       "      <td>67.79</td>\n",
       "      <td>B</td>\n",
       "      <td>B5</td>\n",
       "      <td>...</td>\n",
       "      <td>NaN</td>\n",
       "      <td>NaN</td>\n",
       "      <td>NaN</td>\n",
       "      <td>NaN</td>\n",
       "      <td>0.0</td>\n",
       "      <td>0.0</td>\n",
       "      <td>NaN</td>\n",
       "      <td>NaN</td>\n",
       "      <td>NaN</td>\n",
       "      <td>NaN</td>\n",
       "    </tr>\n",
       "  </tbody>\n",
       "</table>\n",
       "<p>5 rows × 111 columns</p>\n",
       "</div>"
      ],
      "text/plain": [
       "        id  member_id  loan_amnt  funded_amnt  funded_amnt_inv        term  \\\n",
       "0  1077501    1296599       5000         5000           4975.0   36 months   \n",
       "1  1077430    1314167       2500         2500           2500.0   60 months   \n",
       "2  1077175    1313524       2400         2400           2400.0   36 months   \n",
       "3  1076863    1277178      10000        10000          10000.0   36 months   \n",
       "4  1075358    1311748       3000         3000           3000.0   60 months   \n",
       "\n",
       "  int_rate  installment grade sub_grade  ... num_tl_90g_dpd_24m  \\\n",
       "0   10.65%       162.87     B        B2  ...                NaN   \n",
       "1   15.27%        59.83     C        C4  ...                NaN   \n",
       "2   15.96%        84.33     C        C5  ...                NaN   \n",
       "3   13.49%       339.31     C        C1  ...                NaN   \n",
       "4   12.69%        67.79     B        B5  ...                NaN   \n",
       "\n",
       "  num_tl_op_past_12m pct_tl_nvr_dlq  percent_bc_gt_75 pub_rec_bankruptcies  \\\n",
       "0                NaN            NaN               NaN                  0.0   \n",
       "1                NaN            NaN               NaN                  0.0   \n",
       "2                NaN            NaN               NaN                  0.0   \n",
       "3                NaN            NaN               NaN                  0.0   \n",
       "4                NaN            NaN               NaN                  0.0   \n",
       "\n",
       "  tax_liens tot_hi_cred_lim total_bal_ex_mort total_bc_limit  \\\n",
       "0       0.0             NaN               NaN            NaN   \n",
       "1       0.0             NaN               NaN            NaN   \n",
       "2       0.0             NaN               NaN            NaN   \n",
       "3       0.0             NaN               NaN            NaN   \n",
       "4       0.0             NaN               NaN            NaN   \n",
       "\n",
       "  total_il_high_credit_limit  \n",
       "0                        NaN  \n",
       "1                        NaN  \n",
       "2                        NaN  \n",
       "3                        NaN  \n",
       "4                        NaN  \n",
       "\n",
       "[5 rows x 111 columns]"
      ]
     },
     "execution_count": 1142,
     "metadata": {},
     "output_type": "execute_result"
    }
   ],
   "source": [
    "pd.low_memory=False\n",
    "RejectStats = pd.read_excel(\"Data_Dictionary.xlsx\", sheet_name=1)\n",
    "RejectStats.head(20)\n",
    "loan_all = pd.read_csv(\"loan.csv\")\n",
    "loan_all.head()"
   ]
  },
  {
   "cell_type": "code",
   "execution_count": 1143,
   "id": "bd031dde",
   "metadata": {},
   "outputs": [
    {
     "data": {
      "text/plain": [
       "(39717, 111)"
      ]
     },
     "execution_count": 1143,
     "metadata": {},
     "output_type": "execute_result"
    }
   ],
   "source": [
    "loan_all.shape"
   ]
  },
  {
   "cell_type": "code",
   "execution_count": 1144,
   "id": "e03136c3",
   "metadata": {},
   "outputs": [
    {
     "name": "stdout",
     "output_type": "stream",
     "text": [
      "<class 'pandas.core.frame.DataFrame'>\n",
      "RangeIndex: 39717 entries, 0 to 39716\n",
      "Columns: 111 entries, id to total_il_high_credit_limit\n",
      "dtypes: float64(74), int64(13), object(24)\n",
      "memory usage: 33.6+ MB\n"
     ]
    }
   ],
   "source": [
    "loan_all.info()\n",
    "\n",
    "# observations :\n",
    "#Data has 74  float value columns\n",
    "#Data has 13  int64 value columns\n",
    "#Data has 24  object/String value columns"
   ]
  },
  {
   "cell_type": "markdown",
   "id": "0d5df02f",
   "metadata": {},
   "source": [
    "###   1.2. Data Understanding"
   ]
  },
  {
   "cell_type": "code",
   "execution_count": 1146,
   "id": "4dd42ef1",
   "metadata": {},
   "outputs": [
    {
     "data": {
      "text/plain": [
       "39717    54\n",
       "0        43\n",
       "56        2\n",
       "2459      1\n",
       "1075      1\n",
       "12940     1\n",
       "11        1\n",
       "25682     1\n",
       "36931     1\n",
       "50        1\n",
       "71        1\n",
       "38577     1\n",
       "2         1\n",
       "697       1\n",
       "39        1\n",
       "dtype: int64"
      ]
     },
     "execution_count": 1146,
     "metadata": {},
     "output_type": "execute_result"
    }
   ],
   "source": [
    "### Getting a list of columns having nulls\n",
    "loan_all.isnull().sum().value_counts()\n",
    "\n",
    "# found that 54 columns have all null\n",
    "# found that 2 columns in 56 rows are null\n",
    "# Rest rows has very less nulls and 43 columns does not have any nulls\n"
   ]
  },
  {
   "cell_type": "code",
   "execution_count": 1147,
   "id": "12f5cf75",
   "metadata": {},
   "outputs": [
    {
     "data": {
      "text/plain": [
       "Index(['mths_since_last_major_derog', 'annual_inc_joint', 'dti_joint',\n",
       "       'verification_status_joint', 'tot_coll_amt', 'tot_cur_bal',\n",
       "       'open_acc_6m', 'open_il_6m', 'open_il_12m', 'open_il_24m',\n",
       "       'mths_since_rcnt_il', 'total_bal_il', 'il_util', 'open_rv_12m',\n",
       "       'open_rv_24m', 'max_bal_bc', 'all_util', 'total_rev_hi_lim', 'inq_fi',\n",
       "       'total_cu_tl', 'inq_last_12m', 'acc_open_past_24mths', 'avg_cur_bal',\n",
       "       'bc_open_to_buy', 'bc_util', 'mo_sin_old_il_acct',\n",
       "       'mo_sin_old_rev_tl_op', 'mo_sin_rcnt_rev_tl_op', 'mo_sin_rcnt_tl',\n",
       "       'mort_acc', 'mths_since_recent_bc', 'mths_since_recent_bc_dlq',\n",
       "       'mths_since_recent_inq', 'mths_since_recent_revol_delinq',\n",
       "       'num_accts_ever_120_pd', 'num_actv_bc_tl', 'num_actv_rev_tl',\n",
       "       'num_bc_sats', 'num_bc_tl', 'num_il_tl', 'num_op_rev_tl',\n",
       "       'num_rev_accts', 'num_rev_tl_bal_gt_0', 'num_sats', 'num_tl_120dpd_2m',\n",
       "       'num_tl_30dpd', 'num_tl_90g_dpd_24m', 'num_tl_op_past_12m',\n",
       "       'pct_tl_nvr_dlq', 'percent_bc_gt_75', 'tot_hi_cred_lim',\n",
       "       'total_bal_ex_mort', 'total_bc_limit', 'total_il_high_credit_limit'],\n",
       "      dtype='object')"
      ]
     },
     "execution_count": 1147,
     "metadata": {},
     "output_type": "execute_result"
    }
   ],
   "source": [
    "### Getting a names of columns having all nulls\n",
    "allnulls = loan_all.isnull().sum()\n",
    "allnulls[allnulls==loan_all.shape[0]].index"
   ]
  },
  {
   "cell_type": "code",
   "execution_count": 1148,
   "id": "a2941d8e",
   "metadata": {},
   "outputs": [
    {
     "data": {
      "text/plain": [
       "mths_since_last_delinq            25682\n",
       "mths_since_last_record            36931\n",
       "next_pymnt_d                      38577\n",
       "mths_since_last_major_derog       39717\n",
       "annual_inc_joint                  39717\n",
       "dti_joint                         39717\n",
       "verification_status_joint         39717\n",
       "tot_coll_amt                      39717\n",
       "tot_cur_bal                       39717\n",
       "open_acc_6m                       39717\n",
       "open_il_6m                        39717\n",
       "open_il_12m                       39717\n",
       "open_il_24m                       39717\n",
       "mths_since_rcnt_il                39717\n",
       "total_bal_il                      39717\n",
       "il_util                           39717\n",
       "open_rv_12m                       39717\n",
       "open_rv_24m                       39717\n",
       "max_bal_bc                        39717\n",
       "all_util                          39717\n",
       "total_rev_hi_lim                  39717\n",
       "inq_fi                            39717\n",
       "total_cu_tl                       39717\n",
       "inq_last_12m                      39717\n",
       "acc_open_past_24mths              39717\n",
       "avg_cur_bal                       39717\n",
       "bc_open_to_buy                    39717\n",
       "bc_util                           39717\n",
       "mo_sin_old_il_acct                39717\n",
       "mo_sin_old_rev_tl_op              39717\n",
       "mo_sin_rcnt_rev_tl_op             39717\n",
       "mo_sin_rcnt_tl                    39717\n",
       "mort_acc                          39717\n",
       "mths_since_recent_bc              39717\n",
       "mths_since_recent_bc_dlq          39717\n",
       "mths_since_recent_inq             39717\n",
       "mths_since_recent_revol_delinq    39717\n",
       "num_accts_ever_120_pd             39717\n",
       "num_actv_bc_tl                    39717\n",
       "num_actv_rev_tl                   39717\n",
       "num_bc_sats                       39717\n",
       "num_bc_tl                         39717\n",
       "num_il_tl                         39717\n",
       "num_op_rev_tl                     39717\n",
       "num_rev_accts                     39717\n",
       "num_rev_tl_bal_gt_0               39717\n",
       "num_sats                          39717\n",
       "num_tl_120dpd_2m                  39717\n",
       "num_tl_30dpd                      39717\n",
       "num_tl_90g_dpd_24m                39717\n",
       "num_tl_op_past_12m                39717\n",
       "pct_tl_nvr_dlq                    39717\n",
       "percent_bc_gt_75                  39717\n",
       "tot_hi_cred_lim                   39717\n",
       "total_bal_ex_mort                 39717\n",
       "total_bc_limit                    39717\n",
       "total_il_high_credit_limit        39717\n",
       "dtype: int64"
      ]
     },
     "execution_count": 1148,
     "metadata": {},
     "output_type": "execute_result"
    }
   ],
   "source": [
    "### Getting the list of columns having more that 35% of missing / null values, \n",
    "### 35% is considered as threshold for missing values.\n",
    "allnulls[allnulls>(loan_all.shape[0]*0.35)]"
   ]
  },
  {
   "cell_type": "code",
   "execution_count": 1149,
   "id": "b4a59e41",
   "metadata": {},
   "outputs": [
    {
     "data": {
      "text/plain": [
       "id                 39717\n",
       "url                39717\n",
       "member_id          39717\n",
       "total_pymnt        37850\n",
       "total_pymnt_inv    37518\n",
       "total_rec_int      35148\n",
       "last_pymnt_amnt    34930\n",
       "emp_title          28820\n",
       "desc               26527\n",
       "revol_bal          21711\n",
       "title              19615\n",
       "installment        15383\n",
       "funded_amnt_inv     8205\n",
       "total_rec_prncp     7976\n",
       "annual_inc          5318\n",
       "dtype: int64"
      ]
     },
     "execution_count": 1149,
     "metadata": {},
     "output_type": "execute_result"
    }
   ],
   "source": [
    "### Getting a list of columns having not unique values\n",
    "loan_all.nunique().sort_values(ascending=False)[:15]\n",
    "\n",
    "# found that 3 columns having same/single value\n",
    "# found that 2 columns has all unique value which are id and member_id \n",
    "# Rest rows has very less nulls\n"
   ]
  },
  {
   "cell_type": "code",
   "execution_count": 1150,
   "id": "aff651de",
   "metadata": {},
   "outputs": [
    {
     "data": {
      "text/plain": [
       "Index(['pymnt_plan', 'initial_list_status', 'collections_12_mths_ex_med',\n",
       "       'policy_code', 'application_type', 'acc_now_delinq',\n",
       "       'chargeoff_within_12_mths', 'delinq_amnt', 'tax_liens'],\n",
       "      dtype='object')"
      ]
     },
     "execution_count": 1150,
     "metadata": {},
     "output_type": "execute_result"
    }
   ],
   "source": [
    "### Getting a names of columns having all nulls\n",
    "uniques = loan_all.nunique()\n",
    "uniques[uniques==1].index"
   ]
  },
  {
   "cell_type": "code",
   "execution_count": 1151,
   "id": "725c6335",
   "metadata": {},
   "outputs": [
    {
     "data": {
      "text/plain": [
       "(39717, 111)"
      ]
     },
     "execution_count": 1151,
     "metadata": {},
     "output_type": "execute_result"
    }
   ],
   "source": [
    "loan_all.shape"
   ]
  },
  {
   "cell_type": "code",
   "execution_count": 1152,
   "id": "94f85886",
   "metadata": {},
   "outputs": [],
   "source": [
    "# checking a list of rows having null in 10 or more columns\n",
    "loan_dropna = loan_all.dropna(thresh=10)"
   ]
  },
  {
   "cell_type": "code",
   "execution_count": 1153,
   "id": "6787f715",
   "metadata": {},
   "outputs": [
    {
     "data": {
      "text/plain": [
       "(39717, 111)"
      ]
     },
     "execution_count": 1153,
     "metadata": {},
     "output_type": "execute_result"
    }
   ],
   "source": [
    "loan_dropna.shape\n",
    "# understanding\n",
    "# not found any rows having missing values in more than 9 columns"
   ]
  },
  {
   "cell_type": "markdown",
   "id": "1cf04531",
   "metadata": {},
   "source": [
    "# 2.  Data Cleaning \n",
    "### 1. Removing columns with all nulls and non-unique value in all rows\n",
    "* Checking the shape and checking nulls again"
   ]
  },
  {
   "cell_type": "code",
   "execution_count": 1154,
   "id": "18771e87",
   "metadata": {},
   "outputs": [
    {
     "data": {
      "text/plain": [
       "(39717, 45)"
      ]
     },
     "execution_count": 1154,
     "metadata": {},
     "output_type": "execute_result"
    }
   ],
   "source": [
    "### Getting a list of columns having all nulls more than 35% threshhold\n",
    "allnulls = loan_all.isnull().sum()\n",
    "\n",
    "### Getting a list of columns having unique values \n",
    "uniques = loan_all.nunique()\n",
    "\n",
    "## Concatinating both list \n",
    "removeIndexes = np.concatenate((uniques[uniques==1].index.values, \n",
    "                               allnulls[allnulls>(loan_all.shape[0]*0.35)].index.values))\n",
    "\n",
    "## Removing from Loan Data\n",
    "loan_all = loan_all.drop(removeIndexes, axis=1)\n",
    "loan_all.shape\n",
    "\n",
    "# understanding \n",
    "# 45 columns left after removing nulls/missing columns more that 35% threshhold and Non-unique values."
   ]
  },
  {
   "cell_type": "code",
   "execution_count": 1155,
   "id": "707c5a76",
   "metadata": {},
   "outputs": [
    {
     "data": {
      "text/plain": [
       "desc                    12940\n",
       "emp_title                2459\n",
       "emp_length               1075\n",
       "pub_rec_bankruptcies      697\n",
       "last_pymnt_d               71\n",
       "revol_util                 50\n",
       "title                      11\n",
       "last_credit_pull_d          2\n",
       "out_prncp_inv               0\n",
       "open_acc                    0\n",
       "dtype: int64"
      ]
     },
     "execution_count": 1155,
     "metadata": {},
     "output_type": "execute_result"
    }
   ],
   "source": [
    "## checking columns having more nulls\n",
    "loan_all.isnull().sum().sort_values(ascending=False)[:10]"
   ]
  },
  {
   "cell_type": "code",
   "execution_count": 1156,
   "id": "70a8f13d",
   "metadata": {},
   "outputs": [
    {
     "data": {
      "text/plain": [
       "10+ years    8879\n",
       "< 1 year     4583\n",
       "2 years      4388\n",
       "3 years      4095\n",
       "4 years      3436\n",
       "5 years      3282\n",
       "1 year       3240\n",
       "6 years      2229\n",
       "7 years      1773\n",
       "8 years      1479\n",
       "9 years      1258\n",
       "Name: emp_length, dtype: int64"
      ]
     },
     "execution_count": 1156,
     "metadata": {},
     "output_type": "execute_result"
    }
   ],
   "source": [
    "loan_all.emp_length.value_counts()"
   ]
  },
  {
   "cell_type": "code",
   "execution_count": 1157,
   "id": "2639e220",
   "metadata": {},
   "outputs": [
    {
     "data": {
      "text/plain": [
       "US Army                              134\n",
       "Bank of America                      109\n",
       "IBM                                   66\n",
       "AT&T                                  59\n",
       "Kaiser Permanente                     56\n",
       "                                    ... \n",
       "Community College of Philadelphia      1\n",
       "AMEC                                   1\n",
       "lee county sheriff                     1\n",
       "Bacon County Board of Education        1\n",
       "Evergreen Center                       1\n",
       "Name: emp_title, Length: 28820, dtype: int64"
      ]
     },
     "execution_count": 1157,
     "metadata": {},
     "output_type": "execute_result"
    }
   ],
   "source": [
    "loan_all.emp_title.value_counts()"
   ]
  },
  {
   "cell_type": "code",
   "execution_count": 1158,
   "id": "064d84b5",
   "metadata": {},
   "outputs": [
    {
     "data": {
      "text/plain": [
       "first student bus co.    1\n",
       "first student            1\n",
       "Name: emp_title, dtype: int64"
      ]
     },
     "execution_count": 1158,
     "metadata": {},
     "output_type": "execute_result"
    }
   ],
   "source": [
    "loan_all[(loan_all[\"emp_title\"].str.contains(\"student\")) & (-loan_all[\"emp_title\"].isnull())].emp_title.value_counts()"
   ]
  },
  {
   "cell_type": "code",
   "execution_count": 1159,
   "id": "60391038",
   "metadata": {},
   "outputs": [
    {
     "data": {
      "text/plain": [
       "debt_consolidation    830\n",
       "small_business        354\n",
       "credit_card           303\n",
       "other                 287\n",
       "home_improvement      218\n",
       "major_purchase        148\n",
       "car                    86\n",
       "medical                47\n",
       "moving                 41\n",
       "vacation               39\n",
       "wedding                35\n",
       "house                  31\n",
       "educational            26\n",
       "renewable_energy       14\n",
       "Name: purpose, dtype: int64"
      ]
     },
     "execution_count": 1159,
     "metadata": {},
     "output_type": "execute_result"
    }
   ],
   "source": [
    "loan_all[loan_all[\"emp_title\"].isnull()][\"purpose\"].value_counts()"
   ]
  },
  {
   "cell_type": "code",
   "execution_count": 1160,
   "id": "386dbe19",
   "metadata": {},
   "outputs": [
    {
     "data": {
      "text/html": [
       "<div>\n",
       "<style scoped>\n",
       "    .dataframe tbody tr th:only-of-type {\n",
       "        vertical-align: middle;\n",
       "    }\n",
       "\n",
       "    .dataframe tbody tr th {\n",
       "        vertical-align: top;\n",
       "    }\n",
       "\n",
       "    .dataframe thead th {\n",
       "        text-align: right;\n",
       "    }\n",
       "</style>\n",
       "<table border=\"1\" class=\"dataframe\">\n",
       "  <thead>\n",
       "    <tr style=\"text-align: right;\">\n",
       "      <th></th>\n",
       "      <th>purpose</th>\n",
       "      <th>emp_title</th>\n",
       "    </tr>\n",
       "  </thead>\n",
       "  <tbody>\n",
       "    <tr>\n",
       "      <th>2</th>\n",
       "      <td>small_business</td>\n",
       "      <td>NaN</td>\n",
       "    </tr>\n",
       "    <tr>\n",
       "      <th>8</th>\n",
       "      <td>small_business</td>\n",
       "      <td>NaN</td>\n",
       "    </tr>\n",
       "    <tr>\n",
       "      <th>61</th>\n",
       "      <td>small_business</td>\n",
       "      <td>NaN</td>\n",
       "    </tr>\n",
       "    <tr>\n",
       "      <th>110</th>\n",
       "      <td>small_business</td>\n",
       "      <td>NaN</td>\n",
       "    </tr>\n",
       "    <tr>\n",
       "      <th>270</th>\n",
       "      <td>small_business</td>\n",
       "      <td>NaN</td>\n",
       "    </tr>\n",
       "    <tr>\n",
       "      <th>...</th>\n",
       "      <td>...</td>\n",
       "      <td>...</td>\n",
       "    </tr>\n",
       "    <tr>\n",
       "      <th>39519</th>\n",
       "      <td>small_business</td>\n",
       "      <td>NaN</td>\n",
       "    </tr>\n",
       "    <tr>\n",
       "      <th>39547</th>\n",
       "      <td>small_business</td>\n",
       "      <td>NaN</td>\n",
       "    </tr>\n",
       "    <tr>\n",
       "      <th>39613</th>\n",
       "      <td>small_business</td>\n",
       "      <td>NaN</td>\n",
       "    </tr>\n",
       "    <tr>\n",
       "      <th>39640</th>\n",
       "      <td>small_business</td>\n",
       "      <td>NaN</td>\n",
       "    </tr>\n",
       "    <tr>\n",
       "      <th>39704</th>\n",
       "      <td>small_business</td>\n",
       "      <td>NaN</td>\n",
       "    </tr>\n",
       "  </tbody>\n",
       "</table>\n",
       "<p>354 rows × 2 columns</p>\n",
       "</div>"
      ],
      "text/plain": [
       "              purpose emp_title\n",
       "2      small_business       NaN\n",
       "8      small_business       NaN\n",
       "61     small_business       NaN\n",
       "110    small_business       NaN\n",
       "270    small_business       NaN\n",
       "...               ...       ...\n",
       "39519  small_business       NaN\n",
       "39547  small_business       NaN\n",
       "39613  small_business       NaN\n",
       "39640  small_business       NaN\n",
       "39704  small_business       NaN\n",
       "\n",
       "[354 rows x 2 columns]"
      ]
     },
     "execution_count": 1160,
     "metadata": {},
     "output_type": "execute_result"
    }
   ],
   "source": [
    "loan_all[(loan_all[\"purpose\"]==\"small_business\") & loan_all[\"emp_title\"].isnull()][[\"purpose\",\"emp_title\"]]"
   ]
  },
  {
   "cell_type": "code",
   "execution_count": 1161,
   "id": "27a34aed",
   "metadata": {},
   "outputs": [
    {
     "data": {
      "text/html": [
       "<div>\n",
       "<style scoped>\n",
       "    .dataframe tbody tr th:only-of-type {\n",
       "        vertical-align: middle;\n",
       "    }\n",
       "\n",
       "    .dataframe tbody tr th {\n",
       "        vertical-align: top;\n",
       "    }\n",
       "\n",
       "    .dataframe thead th {\n",
       "        text-align: right;\n",
       "    }\n",
       "</style>\n",
       "<table border=\"1\" class=\"dataframe\">\n",
       "  <thead>\n",
       "    <tr style=\"text-align: right;\">\n",
       "      <th></th>\n",
       "      <th>term</th>\n",
       "      <th>int_rate</th>\n",
       "      <th>grade</th>\n",
       "      <th>sub_grade</th>\n",
       "      <th>emp_title</th>\n",
       "      <th>emp_length</th>\n",
       "      <th>home_ownership</th>\n",
       "      <th>verification_status</th>\n",
       "      <th>issue_d</th>\n",
       "      <th>loan_status</th>\n",
       "      <th>url</th>\n",
       "      <th>desc</th>\n",
       "      <th>purpose</th>\n",
       "      <th>title</th>\n",
       "      <th>zip_code</th>\n",
       "      <th>addr_state</th>\n",
       "      <th>earliest_cr_line</th>\n",
       "      <th>revol_util</th>\n",
       "      <th>last_pymnt_d</th>\n",
       "      <th>last_credit_pull_d</th>\n",
       "    </tr>\n",
       "  </thead>\n",
       "  <tbody>\n",
       "    <tr>\n",
       "      <th>0</th>\n",
       "      <td>36 months</td>\n",
       "      <td>10.65%</td>\n",
       "      <td>B</td>\n",
       "      <td>B2</td>\n",
       "      <td>NaN</td>\n",
       "      <td>10+ years</td>\n",
       "      <td>RENT</td>\n",
       "      <td>Verified</td>\n",
       "      <td>Dec-11</td>\n",
       "      <td>Fully Paid</td>\n",
       "      <td>https://lendingclub.com/browse/loanDetail.acti...</td>\n",
       "      <td>Borrower added on 12/22/11 &gt; I need to upgra...</td>\n",
       "      <td>credit_card</td>\n",
       "      <td>Computer</td>\n",
       "      <td>860xx</td>\n",
       "      <td>AZ</td>\n",
       "      <td>Jan-85</td>\n",
       "      <td>83.70%</td>\n",
       "      <td>Jan-15</td>\n",
       "      <td>May-16</td>\n",
       "    </tr>\n",
       "    <tr>\n",
       "      <th>1</th>\n",
       "      <td>60 months</td>\n",
       "      <td>15.27%</td>\n",
       "      <td>C</td>\n",
       "      <td>C4</td>\n",
       "      <td>Ryder</td>\n",
       "      <td>&lt; 1 year</td>\n",
       "      <td>RENT</td>\n",
       "      <td>Source Verified</td>\n",
       "      <td>Dec-11</td>\n",
       "      <td>Charged Off</td>\n",
       "      <td>https://lendingclub.com/browse/loanDetail.acti...</td>\n",
       "      <td>Borrower added on 12/22/11 &gt; I plan to use t...</td>\n",
       "      <td>car</td>\n",
       "      <td>bike</td>\n",
       "      <td>309xx</td>\n",
       "      <td>GA</td>\n",
       "      <td>Apr-99</td>\n",
       "      <td>9.40%</td>\n",
       "      <td>Apr-13</td>\n",
       "      <td>Sep-13</td>\n",
       "    </tr>\n",
       "    <tr>\n",
       "      <th>2</th>\n",
       "      <td>36 months</td>\n",
       "      <td>15.96%</td>\n",
       "      <td>C</td>\n",
       "      <td>C5</td>\n",
       "      <td>NaN</td>\n",
       "      <td>10+ years</td>\n",
       "      <td>RENT</td>\n",
       "      <td>Not Verified</td>\n",
       "      <td>Dec-11</td>\n",
       "      <td>Fully Paid</td>\n",
       "      <td>https://lendingclub.com/browse/loanDetail.acti...</td>\n",
       "      <td>NaN</td>\n",
       "      <td>small_business</td>\n",
       "      <td>real estate business</td>\n",
       "      <td>606xx</td>\n",
       "      <td>IL</td>\n",
       "      <td>Nov-01</td>\n",
       "      <td>98.50%</td>\n",
       "      <td>Jun-14</td>\n",
       "      <td>May-16</td>\n",
       "    </tr>\n",
       "    <tr>\n",
       "      <th>3</th>\n",
       "      <td>36 months</td>\n",
       "      <td>13.49%</td>\n",
       "      <td>C</td>\n",
       "      <td>C1</td>\n",
       "      <td>AIR RESOURCES BOARD</td>\n",
       "      <td>10+ years</td>\n",
       "      <td>RENT</td>\n",
       "      <td>Source Verified</td>\n",
       "      <td>Dec-11</td>\n",
       "      <td>Fully Paid</td>\n",
       "      <td>https://lendingclub.com/browse/loanDetail.acti...</td>\n",
       "      <td>Borrower added on 12/21/11 &gt; to pay for prop...</td>\n",
       "      <td>other</td>\n",
       "      <td>personel</td>\n",
       "      <td>917xx</td>\n",
       "      <td>CA</td>\n",
       "      <td>Feb-96</td>\n",
       "      <td>21%</td>\n",
       "      <td>Jan-15</td>\n",
       "      <td>Apr-16</td>\n",
       "    </tr>\n",
       "    <tr>\n",
       "      <th>4</th>\n",
       "      <td>60 months</td>\n",
       "      <td>12.69%</td>\n",
       "      <td>B</td>\n",
       "      <td>B5</td>\n",
       "      <td>University Medical Group</td>\n",
       "      <td>1 year</td>\n",
       "      <td>RENT</td>\n",
       "      <td>Source Verified</td>\n",
       "      <td>Dec-11</td>\n",
       "      <td>Current</td>\n",
       "      <td>https://lendingclub.com/browse/loanDetail.acti...</td>\n",
       "      <td>Borrower added on 12/21/11 &gt; I plan on combi...</td>\n",
       "      <td>other</td>\n",
       "      <td>Personal</td>\n",
       "      <td>972xx</td>\n",
       "      <td>OR</td>\n",
       "      <td>Jan-96</td>\n",
       "      <td>53.90%</td>\n",
       "      <td>May-16</td>\n",
       "      <td>May-16</td>\n",
       "    </tr>\n",
       "  </tbody>\n",
       "</table>\n",
       "</div>"
      ],
      "text/plain": [
       "         term int_rate grade sub_grade                 emp_title emp_length  \\\n",
       "0   36 months   10.65%     B        B2                       NaN  10+ years   \n",
       "1   60 months   15.27%     C        C4                     Ryder   < 1 year   \n",
       "2   36 months   15.96%     C        C5                       NaN  10+ years   \n",
       "3   36 months   13.49%     C        C1       AIR RESOURCES BOARD  10+ years   \n",
       "4   60 months   12.69%     B        B5  University Medical Group     1 year   \n",
       "\n",
       "  home_ownership verification_status issue_d  loan_status  \\\n",
       "0           RENT            Verified  Dec-11   Fully Paid   \n",
       "1           RENT     Source Verified  Dec-11  Charged Off   \n",
       "2           RENT        Not Verified  Dec-11   Fully Paid   \n",
       "3           RENT     Source Verified  Dec-11   Fully Paid   \n",
       "4           RENT     Source Verified  Dec-11      Current   \n",
       "\n",
       "                                                 url  \\\n",
       "0  https://lendingclub.com/browse/loanDetail.acti...   \n",
       "1  https://lendingclub.com/browse/loanDetail.acti...   \n",
       "2  https://lendingclub.com/browse/loanDetail.acti...   \n",
       "3  https://lendingclub.com/browse/loanDetail.acti...   \n",
       "4  https://lendingclub.com/browse/loanDetail.acti...   \n",
       "\n",
       "                                                desc         purpose  \\\n",
       "0    Borrower added on 12/22/11 > I need to upgra...     credit_card   \n",
       "1    Borrower added on 12/22/11 > I plan to use t...             car   \n",
       "2                                                NaN  small_business   \n",
       "3    Borrower added on 12/21/11 > to pay for prop...           other   \n",
       "4    Borrower added on 12/21/11 > I plan on combi...           other   \n",
       "\n",
       "                  title zip_code addr_state earliest_cr_line revol_util  \\\n",
       "0              Computer    860xx         AZ           Jan-85     83.70%   \n",
       "1                  bike    309xx         GA           Apr-99      9.40%   \n",
       "2  real estate business    606xx         IL           Nov-01     98.50%   \n",
       "3              personel    917xx         CA           Feb-96        21%   \n",
       "4              Personal    972xx         OR           Jan-96     53.90%   \n",
       "\n",
       "  last_pymnt_d last_credit_pull_d  \n",
       "0       Jan-15             May-16  \n",
       "1       Apr-13             Sep-13  \n",
       "2       Jun-14             May-16  \n",
       "3       Jan-15             Apr-16  \n",
       "4       May-16             May-16  "
      ]
     },
     "execution_count": 1161,
     "metadata": {},
     "output_type": "execute_result"
    }
   ],
   "source": [
    "# Checking the data with object type\n",
    "loan_all.select_dtypes(include=['object']).head()"
   ]
  },
  {
   "cell_type": "code",
   "execution_count": 1162,
   "id": "ac17fc75",
   "metadata": {},
   "outputs": [],
   "source": [
    "\n",
    "# understading\n",
    "\n",
    "# 1.  No use of the following columns so those should be removed.\n",
    "# \"url\"\n",
    "# \"desc\"\n",
    "# \"id\"\n",
    "# \"member_id\"\n",
    "# \"emp_title\"\n",
    "# \"title\"\n",
    "# \"zip_code\" is having \"xx\" as last 2 digts, this data is incomleted/incorrect. So removing this column\n",
    "\n",
    "\n",
    "# 2.  Renaming (for better clarity of column names) and converting year from \"yy\" to \"yyyy\" in date columns\n",
    "#    \"issue_d\" - > \"issue_date\" and converting year from \"yy\" to \"yyyy\"\n",
    "#    \"earliest_cr_line\" - > converting year from \"yy\" to \"yyyy\"\n",
    "#    \"last_pymnt_d\" - > \"last_pymnt_date\" and converting year from \"yy\" to \"yyyy\"\n",
    "#    \"last_credit_pull_d\" - > \"last_credit_pull_date\" and converting year from \"yy\" to \"yyyy\"\n",
    "\n",
    "\n",
    "# 3.  \"term\" should be integer but having \" months\", so \" months\" should be removed from \"term\" and converrted to int.\n",
    "# column name updated from \"term\" to \"term_months\" for better clarity\n",
    "\n",
    "# 4.  \"int_rate\" is having \"%\", so \"%\" should be removed from \"int_rate\" and converrted to float\n",
    "# \"revol_util\" is having \"%\", so \"%\" should be removed from \"revol_util\" and converrted to float\n",
    "\n",
    "# 5.  \"emp_length\" is already segmented but \"emp_length\" has \"years\"/\"year\", so \"years\"/\"year\" should be removed\n",
    "\n",
    "# 6.  \"loan_status\" is having currntly running loans with \"Current\" value. Currently running loan are not completed yet. \n",
    "# So it is unclear that they will default or not, so removing all rows with loan_status=\"Current\" from this analysis.\n"
   ]
  },
  {
   "cell_type": "markdown",
   "id": "981c0cc3",
   "metadata": {},
   "source": [
    "### 1.  No use of the following columns so those should be removed.\n",
    "* \"url\"\n",
    "* \"desc\"\n",
    "* \"id\"\n",
    "* \"member_id\"\n",
    "* \"emp_title\"\n",
    "* \"title\"\n",
    "* \"zip_code\" is having \"xx\" as last 2 digts, this data is incomleted/incorrect. So removing this column\n"
   ]
  },
  {
   "cell_type": "code",
   "execution_count": 1163,
   "id": "e7079515",
   "metadata": {},
   "outputs": [],
   "source": [
    "# Dropping other non-required columns\n",
    "loan_all = loan_all.drop(columns=[\"url\",\"desc\",\"id\",\"member_id\",\"emp_title\",\"title\",\"zip_code\"], axis=1)"
   ]
  },
  {
   "cell_type": "markdown",
   "id": "c7584073",
   "metadata": {},
   "source": [
    "### 2.  Renaming (for better clarity of column names) and converting year from \"yy\" to \"yyyy\" in date columns\n",
    "*    \"issue_d\" - > \"issue_date\" and converting year from \"yy\" to \"yyyy\"\n",
    "*    \"earliest_cr_line\" - > converting year from \"yy\" to \"yyyy\"\n",
    "*    \"last_pymnt_d\" - > \"last_pymnt_date\" and converting year from \"yy\" to \"yyyy\"\n",
    "*    \"last_credit_pull_d\" - > \"last_credit_pull_date\" and converting year from \"yy\" to \"yyyy\""
   ]
  },
  {
   "cell_type": "code",
   "execution_count": 1164,
   "id": "6516862a",
   "metadata": {},
   "outputs": [],
   "source": [
    "def addCentury(x):\n",
    "    if str(x)[-2:]==\"an\":\n",
    "        return \"No Date\"\n",
    "    else:\n",
    "        return str(x)[:-2]+str(20)+str(x)[-2:] if int(str(x)[-2:])<22 else str(x)[:-2]+str(19)+str(x)[-2:]\n",
    "\n",
    "loan_all[\"issue_d\"] = loan_all[\"issue_d\"].apply(addCentury)\n",
    "loan_all[\"earliest_cr_line\"] = loan_all[\"earliest_cr_line\"].apply(addCentury)\n",
    "loan_all[\"last_pymnt_d\"] = loan_all[\"last_pymnt_d\"].apply(addCentury)\n",
    "loan_all[\"last_credit_pull_d\"] = loan_all[\"last_credit_pull_d\"].apply(addCentury)\n",
    "\n",
    "loan_all.rename(columns={\"issue_d\":\"issue_date\",\"last_pymnt_d\":\"last_pymnt_date\",\n",
    "                         \"last_credit_pull_d\":\"last_credit_pull_date\"}, inplace=True)\n"
   ]
  },
  {
   "cell_type": "markdown",
   "id": "71073c38",
   "metadata": {},
   "source": [
    "### 3.  \"term_months\" should be integer but having \" months\", so \" months\" should be removed from \"term_months\" and converrted to int.\n",
    "* column name updated from \"term\" to \"term_months\" for better clarity"
   ]
  },
  {
   "cell_type": "code",
   "execution_count": 1165,
   "id": "01d17a1c",
   "metadata": {},
   "outputs": [],
   "source": [
    "loan_all[\"term\"] = loan_all[\"term\"].apply(lambda x: int(x[0:3]))\n",
    "\n",
    "loan_all.rename(columns={\"term\":\"term_months\"}, inplace=True)"
   ]
  },
  {
   "cell_type": "markdown",
   "id": "72089369",
   "metadata": {},
   "source": [
    "\n",
    "### 4  \"revol_util\" is having \"%\", so \"%\" should be removed from \"revol_util\" and converrted to float\n",
    "and \"int_rate\" is having \"%\", so \"%\" should be removed from \"int_rate\" and converrted to float\n",
    "\n",
    "* column name updated from \"revol_util\" to \"revol_util_percent\" for better clarity"
   ]
  },
  {
   "cell_type": "code",
   "execution_count": 1166,
   "id": "0ead4375",
   "metadata": {},
   "outputs": [],
   "source": [
    "# Uncomment all lines and Run Once only\n",
    "def removePercent(x):\n",
    "    return float(x[:-1]) if str(x)[-1]==\"%\" else x\n",
    "\n",
    "loan_all[\"int_rate\"] = loan_all[\"int_rate\"].apply(removePercent)\n",
    "loan_all[\"revol_util\"] = loan_all[\"revol_util\"].apply(removePercent)\n",
    "\n",
    "loan_all.rename(columns={\"revol_util\":\"revol_util_percent\"}, inplace=True)"
   ]
  },
  {
   "cell_type": "markdown",
   "id": "5aad6f60",
   "metadata": {},
   "source": [
    "### 5.  \"emp_length\" is already segmented but \"emp_length\" has \"years\"/\"year\", so \"years\"/\"year\" should be removed"
   ]
  },
  {
   "cell_type": "code",
   "execution_count": 1167,
   "id": "b9904165",
   "metadata": {},
   "outputs": [],
   "source": [
    "# Replacing XX to blank in Zipcode\n",
    "loan_all[\"emp_length\"] = loan_all[\"emp_length\"].apply(lambda x: str(x).replace(\"years\",\"\").replace(\"year\",\"\"))"
   ]
  },
  {
   "cell_type": "markdown",
   "id": "bc68768e",
   "metadata": {},
   "source": [
    "\n",
    "### 6.  \"loan_status\" is having currntly running loans with \"Current\" value. Currently running loan are not completed yet. \n",
    "* So it is unclear that they will default or not, so removing all rows with loan_status=\"Current\" from this analysis.\n"
   ]
  },
  {
   "cell_type": "code",
   "execution_count": 1168,
   "id": "e42d9382",
   "metadata": {},
   "outputs": [],
   "source": [
    "## Extracting all \"Current\" loans to another list loan_curr and Removing from loan_all\n",
    "loan_curr = loan_all[loan_all.loan_status==\"Current\"]\n",
    "loan_all = loan_all[-(loan_all.loan_status==\"Current\")]"
   ]
  },
  {
   "cell_type": "code",
   "execution_count": 1169,
   "id": "4f85c492",
   "metadata": {},
   "outputs": [
    {
     "data": {
      "text/html": [
       "<div>\n",
       "<style scoped>\n",
       "    .dataframe tbody tr th:only-of-type {\n",
       "        vertical-align: middle;\n",
       "    }\n",
       "\n",
       "    .dataframe tbody tr th {\n",
       "        vertical-align: top;\n",
       "    }\n",
       "\n",
       "    .dataframe thead th {\n",
       "        text-align: right;\n",
       "    }\n",
       "</style>\n",
       "<table border=\"1\" class=\"dataframe\">\n",
       "  <thead>\n",
       "    <tr style=\"text-align: right;\">\n",
       "      <th></th>\n",
       "      <th>grade</th>\n",
       "      <th>sub_grade</th>\n",
       "      <th>emp_length</th>\n",
       "      <th>home_ownership</th>\n",
       "      <th>verification_status</th>\n",
       "      <th>issue_date</th>\n",
       "      <th>loan_status</th>\n",
       "      <th>purpose</th>\n",
       "      <th>addr_state</th>\n",
       "      <th>earliest_cr_line</th>\n",
       "      <th>last_pymnt_date</th>\n",
       "      <th>last_credit_pull_date</th>\n",
       "    </tr>\n",
       "  </thead>\n",
       "  <tbody>\n",
       "    <tr>\n",
       "      <th>0</th>\n",
       "      <td>B</td>\n",
       "      <td>B2</td>\n",
       "      <td>10+</td>\n",
       "      <td>RENT</td>\n",
       "      <td>Verified</td>\n",
       "      <td>Dec-2011</td>\n",
       "      <td>Fully Paid</td>\n",
       "      <td>credit_card</td>\n",
       "      <td>AZ</td>\n",
       "      <td>Jan-1985</td>\n",
       "      <td>Jan-2015</td>\n",
       "      <td>May-2016</td>\n",
       "    </tr>\n",
       "    <tr>\n",
       "      <th>1</th>\n",
       "      <td>C</td>\n",
       "      <td>C4</td>\n",
       "      <td>&lt; 1</td>\n",
       "      <td>RENT</td>\n",
       "      <td>Source Verified</td>\n",
       "      <td>Dec-2011</td>\n",
       "      <td>Charged Off</td>\n",
       "      <td>car</td>\n",
       "      <td>GA</td>\n",
       "      <td>Apr-1999</td>\n",
       "      <td>Apr-2013</td>\n",
       "      <td>Sep-2013</td>\n",
       "    </tr>\n",
       "    <tr>\n",
       "      <th>2</th>\n",
       "      <td>C</td>\n",
       "      <td>C5</td>\n",
       "      <td>10+</td>\n",
       "      <td>RENT</td>\n",
       "      <td>Not Verified</td>\n",
       "      <td>Dec-2011</td>\n",
       "      <td>Fully Paid</td>\n",
       "      <td>small_business</td>\n",
       "      <td>IL</td>\n",
       "      <td>Nov-2001</td>\n",
       "      <td>Jun-2014</td>\n",
       "      <td>May-2016</td>\n",
       "    </tr>\n",
       "    <tr>\n",
       "      <th>3</th>\n",
       "      <td>C</td>\n",
       "      <td>C1</td>\n",
       "      <td>10+</td>\n",
       "      <td>RENT</td>\n",
       "      <td>Source Verified</td>\n",
       "      <td>Dec-2011</td>\n",
       "      <td>Fully Paid</td>\n",
       "      <td>other</td>\n",
       "      <td>CA</td>\n",
       "      <td>Feb-1996</td>\n",
       "      <td>Jan-2015</td>\n",
       "      <td>Apr-2016</td>\n",
       "    </tr>\n",
       "    <tr>\n",
       "      <th>5</th>\n",
       "      <td>A</td>\n",
       "      <td>A4</td>\n",
       "      <td>3</td>\n",
       "      <td>RENT</td>\n",
       "      <td>Source Verified</td>\n",
       "      <td>Dec-2011</td>\n",
       "      <td>Fully Paid</td>\n",
       "      <td>wedding</td>\n",
       "      <td>AZ</td>\n",
       "      <td>Nov-2004</td>\n",
       "      <td>Jan-2015</td>\n",
       "      <td>Jan-2016</td>\n",
       "    </tr>\n",
       "    <tr>\n",
       "      <th>6</th>\n",
       "      <td>C</td>\n",
       "      <td>C5</td>\n",
       "      <td>8</td>\n",
       "      <td>RENT</td>\n",
       "      <td>Not Verified</td>\n",
       "      <td>Dec-2011</td>\n",
       "      <td>Fully Paid</td>\n",
       "      <td>debt_consolidation</td>\n",
       "      <td>NC</td>\n",
       "      <td>Jul-2005</td>\n",
       "      <td>May-2016</td>\n",
       "      <td>May-2016</td>\n",
       "    </tr>\n",
       "    <tr>\n",
       "      <th>7</th>\n",
       "      <td>E</td>\n",
       "      <td>E1</td>\n",
       "      <td>9</td>\n",
       "      <td>RENT</td>\n",
       "      <td>Source Verified</td>\n",
       "      <td>Dec-2011</td>\n",
       "      <td>Fully Paid</td>\n",
       "      <td>car</td>\n",
       "      <td>CA</td>\n",
       "      <td>Jan-2007</td>\n",
       "      <td>Jan-2015</td>\n",
       "      <td>Dec-2014</td>\n",
       "    </tr>\n",
       "    <tr>\n",
       "      <th>8</th>\n",
       "      <td>F</td>\n",
       "      <td>F2</td>\n",
       "      <td>4</td>\n",
       "      <td>OWN</td>\n",
       "      <td>Source Verified</td>\n",
       "      <td>Dec-2011</td>\n",
       "      <td>Charged Off</td>\n",
       "      <td>small_business</td>\n",
       "      <td>CA</td>\n",
       "      <td>Apr-2004</td>\n",
       "      <td>Apr-2012</td>\n",
       "      <td>Aug-2012</td>\n",
       "    </tr>\n",
       "    <tr>\n",
       "      <th>9</th>\n",
       "      <td>B</td>\n",
       "      <td>B5</td>\n",
       "      <td>&lt; 1</td>\n",
       "      <td>RENT</td>\n",
       "      <td>Verified</td>\n",
       "      <td>Dec-2011</td>\n",
       "      <td>Charged Off</td>\n",
       "      <td>other</td>\n",
       "      <td>TX</td>\n",
       "      <td>Sep-2004</td>\n",
       "      <td>Nov-2012</td>\n",
       "      <td>Mar-2013</td>\n",
       "    </tr>\n",
       "    <tr>\n",
       "      <th>10</th>\n",
       "      <td>C</td>\n",
       "      <td>C3</td>\n",
       "      <td>5</td>\n",
       "      <td>OWN</td>\n",
       "      <td>Not Verified</td>\n",
       "      <td>Dec-2011</td>\n",
       "      <td>Fully Paid</td>\n",
       "      <td>debt_consolidation</td>\n",
       "      <td>AZ</td>\n",
       "      <td>Jan-1998</td>\n",
       "      <td>Jun-2013</td>\n",
       "      <td>Dec-2015</td>\n",
       "    </tr>\n",
       "  </tbody>\n",
       "</table>\n",
       "</div>"
      ],
      "text/plain": [
       "   grade sub_grade emp_length home_ownership verification_status issue_date  \\\n",
       "0      B        B2       10+            RENT            Verified   Dec-2011   \n",
       "1      C        C4       < 1            RENT     Source Verified   Dec-2011   \n",
       "2      C        C5       10+            RENT        Not Verified   Dec-2011   \n",
       "3      C        C1       10+            RENT     Source Verified   Dec-2011   \n",
       "5      A        A4         3            RENT     Source Verified   Dec-2011   \n",
       "6      C        C5         8            RENT        Not Verified   Dec-2011   \n",
       "7      E        E1         9            RENT     Source Verified   Dec-2011   \n",
       "8      F        F2         4             OWN     Source Verified   Dec-2011   \n",
       "9      B        B5       < 1            RENT            Verified   Dec-2011   \n",
       "10     C        C3         5             OWN        Not Verified   Dec-2011   \n",
       "\n",
       "    loan_status             purpose addr_state earliest_cr_line  \\\n",
       "0    Fully Paid         credit_card         AZ         Jan-1985   \n",
       "1   Charged Off                 car         GA         Apr-1999   \n",
       "2    Fully Paid      small_business         IL         Nov-2001   \n",
       "3    Fully Paid               other         CA         Feb-1996   \n",
       "5    Fully Paid             wedding         AZ         Nov-2004   \n",
       "6    Fully Paid  debt_consolidation         NC         Jul-2005   \n",
       "7    Fully Paid                 car         CA         Jan-2007   \n",
       "8   Charged Off      small_business         CA         Apr-2004   \n",
       "9   Charged Off               other         TX         Sep-2004   \n",
       "10   Fully Paid  debt_consolidation         AZ         Jan-1998   \n",
       "\n",
       "   last_pymnt_date last_credit_pull_date  \n",
       "0         Jan-2015              May-2016  \n",
       "1         Apr-2013              Sep-2013  \n",
       "2         Jun-2014              May-2016  \n",
       "3         Jan-2015              Apr-2016  \n",
       "5         Jan-2015              Jan-2016  \n",
       "6         May-2016              May-2016  \n",
       "7         Jan-2015              Dec-2014  \n",
       "8         Apr-2012              Aug-2012  \n",
       "9         Nov-2012              Mar-2013  \n",
       "10        Jun-2013              Dec-2015  "
      ]
     },
     "execution_count": 1169,
     "metadata": {},
     "output_type": "execute_result"
    }
   ],
   "source": [
    "# checking all object types columns\n",
    "loan_all.select_dtypes(include=['object']).head(10)"
   ]
  },
  {
   "cell_type": "code",
   "execution_count": 1170,
   "id": "1eb30e1b",
   "metadata": {},
   "outputs": [
    {
     "data": {
      "text/html": [
       "<div>\n",
       "<style scoped>\n",
       "    .dataframe tbody tr th:only-of-type {\n",
       "        vertical-align: middle;\n",
       "    }\n",
       "\n",
       "    .dataframe tbody tr th {\n",
       "        vertical-align: top;\n",
       "    }\n",
       "\n",
       "    .dataframe thead th {\n",
       "        text-align: right;\n",
       "    }\n",
       "</style>\n",
       "<table border=\"1\" class=\"dataframe\">\n",
       "  <thead>\n",
       "    <tr style=\"text-align: right;\">\n",
       "      <th></th>\n",
       "      <th>loan_amnt</th>\n",
       "      <th>funded_amnt</th>\n",
       "      <th>term_months</th>\n",
       "      <th>delinq_2yrs</th>\n",
       "      <th>inq_last_6mths</th>\n",
       "      <th>open_acc</th>\n",
       "      <th>pub_rec</th>\n",
       "      <th>revol_bal</th>\n",
       "      <th>total_acc</th>\n",
       "    </tr>\n",
       "  </thead>\n",
       "  <tbody>\n",
       "    <tr>\n",
       "      <th>0</th>\n",
       "      <td>5000</td>\n",
       "      <td>5000</td>\n",
       "      <td>36</td>\n",
       "      <td>0</td>\n",
       "      <td>1</td>\n",
       "      <td>3</td>\n",
       "      <td>0</td>\n",
       "      <td>13648</td>\n",
       "      <td>9</td>\n",
       "    </tr>\n",
       "    <tr>\n",
       "      <th>1</th>\n",
       "      <td>2500</td>\n",
       "      <td>2500</td>\n",
       "      <td>60</td>\n",
       "      <td>0</td>\n",
       "      <td>5</td>\n",
       "      <td>3</td>\n",
       "      <td>0</td>\n",
       "      <td>1687</td>\n",
       "      <td>4</td>\n",
       "    </tr>\n",
       "    <tr>\n",
       "      <th>2</th>\n",
       "      <td>2400</td>\n",
       "      <td>2400</td>\n",
       "      <td>36</td>\n",
       "      <td>0</td>\n",
       "      <td>2</td>\n",
       "      <td>2</td>\n",
       "      <td>0</td>\n",
       "      <td>2956</td>\n",
       "      <td>10</td>\n",
       "    </tr>\n",
       "    <tr>\n",
       "      <th>3</th>\n",
       "      <td>10000</td>\n",
       "      <td>10000</td>\n",
       "      <td>36</td>\n",
       "      <td>0</td>\n",
       "      <td>1</td>\n",
       "      <td>10</td>\n",
       "      <td>0</td>\n",
       "      <td>5598</td>\n",
       "      <td>37</td>\n",
       "    </tr>\n",
       "    <tr>\n",
       "      <th>5</th>\n",
       "      <td>5000</td>\n",
       "      <td>5000</td>\n",
       "      <td>36</td>\n",
       "      <td>0</td>\n",
       "      <td>3</td>\n",
       "      <td>9</td>\n",
       "      <td>0</td>\n",
       "      <td>7963</td>\n",
       "      <td>12</td>\n",
       "    </tr>\n",
       "  </tbody>\n",
       "</table>\n",
       "</div>"
      ],
      "text/plain": [
       "   loan_amnt  funded_amnt  term_months  delinq_2yrs  inq_last_6mths  open_acc  \\\n",
       "0       5000         5000           36            0               1         3   \n",
       "1       2500         2500           60            0               5         3   \n",
       "2       2400         2400           36            0               2         2   \n",
       "3      10000        10000           36            0               1        10   \n",
       "5       5000         5000           36            0               3         9   \n",
       "\n",
       "   pub_rec  revol_bal  total_acc  \n",
       "0        0      13648          9  \n",
       "1        0       1687          4  \n",
       "2        0       2956         10  \n",
       "3        0       5598         37  \n",
       "5        0       7963         12  "
      ]
     },
     "execution_count": 1170,
     "metadata": {},
     "output_type": "execute_result"
    }
   ],
   "source": [
    "loan_all.select_dtypes(include=['int']).head()"
   ]
  },
  {
   "cell_type": "code",
   "execution_count": 1171,
   "id": "06aa2640",
   "metadata": {},
   "outputs": [
    {
     "data": {
      "text/html": [
       "<div>\n",
       "<style scoped>\n",
       "    .dataframe tbody tr th:only-of-type {\n",
       "        vertical-align: middle;\n",
       "    }\n",
       "\n",
       "    .dataframe tbody tr th {\n",
       "        vertical-align: top;\n",
       "    }\n",
       "\n",
       "    .dataframe thead th {\n",
       "        text-align: right;\n",
       "    }\n",
       "</style>\n",
       "<table border=\"1\" class=\"dataframe\">\n",
       "  <thead>\n",
       "    <tr style=\"text-align: right;\">\n",
       "      <th></th>\n",
       "      <th>funded_amnt_inv</th>\n",
       "      <th>int_rate</th>\n",
       "      <th>installment</th>\n",
       "      <th>annual_inc</th>\n",
       "      <th>dti</th>\n",
       "      <th>revol_util_percent</th>\n",
       "      <th>out_prncp</th>\n",
       "      <th>out_prncp_inv</th>\n",
       "      <th>total_pymnt</th>\n",
       "      <th>total_pymnt_inv</th>\n",
       "      <th>total_rec_prncp</th>\n",
       "      <th>total_rec_int</th>\n",
       "      <th>total_rec_late_fee</th>\n",
       "      <th>recoveries</th>\n",
       "      <th>collection_recovery_fee</th>\n",
       "      <th>last_pymnt_amnt</th>\n",
       "      <th>pub_rec_bankruptcies</th>\n",
       "    </tr>\n",
       "  </thead>\n",
       "  <tbody>\n",
       "    <tr>\n",
       "      <th>0</th>\n",
       "      <td>4975.0</td>\n",
       "      <td>10.65</td>\n",
       "      <td>162.87</td>\n",
       "      <td>24000.0</td>\n",
       "      <td>27.65</td>\n",
       "      <td>83.7</td>\n",
       "      <td>0.0</td>\n",
       "      <td>0.0</td>\n",
       "      <td>5863.155187</td>\n",
       "      <td>5833.84</td>\n",
       "      <td>5000.00</td>\n",
       "      <td>863.16</td>\n",
       "      <td>0.00</td>\n",
       "      <td>0.00</td>\n",
       "      <td>0.00</td>\n",
       "      <td>171.62</td>\n",
       "      <td>0.0</td>\n",
       "    </tr>\n",
       "    <tr>\n",
       "      <th>1</th>\n",
       "      <td>2500.0</td>\n",
       "      <td>15.27</td>\n",
       "      <td>59.83</td>\n",
       "      <td>30000.0</td>\n",
       "      <td>1.00</td>\n",
       "      <td>9.4</td>\n",
       "      <td>0.0</td>\n",
       "      <td>0.0</td>\n",
       "      <td>1008.710000</td>\n",
       "      <td>1008.71</td>\n",
       "      <td>456.46</td>\n",
       "      <td>435.17</td>\n",
       "      <td>0.00</td>\n",
       "      <td>117.08</td>\n",
       "      <td>1.11</td>\n",
       "      <td>119.66</td>\n",
       "      <td>0.0</td>\n",
       "    </tr>\n",
       "    <tr>\n",
       "      <th>2</th>\n",
       "      <td>2400.0</td>\n",
       "      <td>15.96</td>\n",
       "      <td>84.33</td>\n",
       "      <td>12252.0</td>\n",
       "      <td>8.72</td>\n",
       "      <td>98.5</td>\n",
       "      <td>0.0</td>\n",
       "      <td>0.0</td>\n",
       "      <td>3005.666844</td>\n",
       "      <td>3005.67</td>\n",
       "      <td>2400.00</td>\n",
       "      <td>605.67</td>\n",
       "      <td>0.00</td>\n",
       "      <td>0.00</td>\n",
       "      <td>0.00</td>\n",
       "      <td>649.91</td>\n",
       "      <td>0.0</td>\n",
       "    </tr>\n",
       "    <tr>\n",
       "      <th>3</th>\n",
       "      <td>10000.0</td>\n",
       "      <td>13.49</td>\n",
       "      <td>339.31</td>\n",
       "      <td>49200.0</td>\n",
       "      <td>20.00</td>\n",
       "      <td>21.0</td>\n",
       "      <td>0.0</td>\n",
       "      <td>0.0</td>\n",
       "      <td>12231.890000</td>\n",
       "      <td>12231.89</td>\n",
       "      <td>10000.00</td>\n",
       "      <td>2214.92</td>\n",
       "      <td>16.97</td>\n",
       "      <td>0.00</td>\n",
       "      <td>0.00</td>\n",
       "      <td>357.48</td>\n",
       "      <td>0.0</td>\n",
       "    </tr>\n",
       "    <tr>\n",
       "      <th>5</th>\n",
       "      <td>5000.0</td>\n",
       "      <td>7.90</td>\n",
       "      <td>156.46</td>\n",
       "      <td>36000.0</td>\n",
       "      <td>11.20</td>\n",
       "      <td>28.3</td>\n",
       "      <td>0.0</td>\n",
       "      <td>0.0</td>\n",
       "      <td>5632.210000</td>\n",
       "      <td>5632.21</td>\n",
       "      <td>5000.00</td>\n",
       "      <td>632.21</td>\n",
       "      <td>0.00</td>\n",
       "      <td>0.00</td>\n",
       "      <td>0.00</td>\n",
       "      <td>161.03</td>\n",
       "      <td>0.0</td>\n",
       "    </tr>\n",
       "  </tbody>\n",
       "</table>\n",
       "</div>"
      ],
      "text/plain": [
       "   funded_amnt_inv  int_rate  installment  annual_inc    dti  \\\n",
       "0           4975.0     10.65       162.87     24000.0  27.65   \n",
       "1           2500.0     15.27        59.83     30000.0   1.00   \n",
       "2           2400.0     15.96        84.33     12252.0   8.72   \n",
       "3          10000.0     13.49       339.31     49200.0  20.00   \n",
       "5           5000.0      7.90       156.46     36000.0  11.20   \n",
       "\n",
       "   revol_util_percent  out_prncp  out_prncp_inv   total_pymnt  \\\n",
       "0                83.7        0.0            0.0   5863.155187   \n",
       "1                 9.4        0.0            0.0   1008.710000   \n",
       "2                98.5        0.0            0.0   3005.666844   \n",
       "3                21.0        0.0            0.0  12231.890000   \n",
       "5                28.3        0.0            0.0   5632.210000   \n",
       "\n",
       "   total_pymnt_inv  total_rec_prncp  total_rec_int  total_rec_late_fee  \\\n",
       "0          5833.84          5000.00         863.16                0.00   \n",
       "1          1008.71           456.46         435.17                0.00   \n",
       "2          3005.67          2400.00         605.67                0.00   \n",
       "3         12231.89         10000.00        2214.92               16.97   \n",
       "5          5632.21          5000.00         632.21                0.00   \n",
       "\n",
       "   recoveries  collection_recovery_fee  last_pymnt_amnt  pub_rec_bankruptcies  \n",
       "0        0.00                     0.00           171.62                   0.0  \n",
       "1      117.08                     1.11           119.66                   0.0  \n",
       "2        0.00                     0.00           649.91                   0.0  \n",
       "3        0.00                     0.00           357.48                   0.0  \n",
       "5        0.00                     0.00           161.03                   0.0  "
      ]
     },
     "execution_count": 1171,
     "metadata": {},
     "output_type": "execute_result"
    }
   ],
   "source": [
    "loan_all.select_dtypes(include=['float']).head()"
   ]
  },
  {
   "cell_type": "markdown",
   "id": "fc05f4be",
   "metadata": {},
   "source": [
    "# 3.  Derived Columns\n",
    "### 1. Extracting  \"issue_month\" and  \"issue_year\" from  \"issue_date\""
   ]
  },
  {
   "cell_type": "code",
   "execution_count": 1172,
   "id": "a0cbdff3",
   "metadata": {},
   "outputs": [],
   "source": [
    "loan_all[\"issue_month\"]=pd.DatetimeIndex(loan_all.issue_date).month\n",
    "loan_all[\"issue_year\"]=pd.DatetimeIndex(loan_all.issue_date).year"
   ]
  },
  {
   "cell_type": "markdown",
   "id": "86ef76ee",
   "metadata": {},
   "source": [
    "### 2. Make segments of int_rate."
   ]
  },
  {
   "cell_type": "code",
   "execution_count": 1192,
   "id": "f190795a",
   "metadata": {},
   "outputs": [
    {
     "data": {
      "text/plain": [
       "count    36815.000000\n",
       "mean        11.889882\n",
       "std          3.668709\n",
       "min          5.420000\n",
       "25%          8.940000\n",
       "50%         11.710000\n",
       "75%         14.270000\n",
       "max         24.400000\n",
       "Name: int_rate, dtype: float64"
      ]
     },
     "execution_count": 1192,
     "metadata": {},
     "output_type": "execute_result"
    }
   ],
   "source": [
    "loan_all.int_rate.describe()"
   ]
  },
  {
   "cell_type": "code",
   "execution_count": 1173,
   "id": "24ab025f",
   "metadata": {},
   "outputs": [
    {
     "data": {
      "text/plain": [
       "count    38577.000000\n",
       "mean        11.932219\n",
       "std          3.691327\n",
       "min          5.420000\n",
       "25%          8.940000\n",
       "50%         11.710000\n",
       "75%         14.380000\n",
       "max         24.400000\n",
       "Name: int_rate, dtype: float64"
      ]
     },
     "execution_count": 1173,
     "metadata": {},
     "output_type": "execute_result"
    }
   ],
   "source": [
    "loan_all.int_rate.describe()\n",
    "# Since min int_rate is 5.42 and max >24.4 making 5 segments from 5 to 25."
   ]
  },
  {
   "cell_type": "code",
   "execution_count": 1174,
   "id": "755954f6",
   "metadata": {},
   "outputs": [
    {
     "data": {
      "text/plain": [
       "0-10     12067\n",
       "10-13    11931\n",
       "13-16     9076\n",
       "16-19     4103\n",
       ">19       1400\n",
       "Name: int_rate_category, dtype: int64"
      ]
     },
     "execution_count": 1174,
     "metadata": {},
     "output_type": "execute_result"
    }
   ],
   "source": [
    "def makeRateGroups(x):\n",
    "    if x<10:\n",
    "        return \"0-10\"\n",
    "    elif x<13:\n",
    "        return \"10-13\"\n",
    "    elif x<16:\n",
    "        return \"13-16\"\n",
    "    elif x<19:\n",
    "        return \"16-19\"\n",
    "    elif x>=19:\n",
    "        return \">19\"\n",
    "\n",
    "# Make groups of int_rate.\n",
    "loan_all['int_rate_category'] = loan_all.int_rate.apply(makeRateGroups)\n",
    "loan_all['int_rate_category'].value_counts()"
   ]
  },
  {
   "cell_type": "markdown",
   "id": "55becdfc",
   "metadata": {},
   "source": [
    "### 3. Make segments of dti."
   ]
  },
  {
   "cell_type": "code",
   "execution_count": 1175,
   "id": "12e8f70c",
   "metadata": {},
   "outputs": [
    {
     "data": {
      "text/plain": [
       "0-10     12905\n",
       ">19       8899\n",
       "13-16     5860\n",
       "10-13     5666\n",
       "16-19     5247\n",
       "Name: dti_category, dtype: int64"
      ]
     },
     "execution_count": 1175,
     "metadata": {},
     "output_type": "execute_result"
    }
   ],
   "source": [
    "# Using the same segments used in \"int_rate\" for \"dti\"\n",
    "loan_all['dti_category'] = loan_all.dti.apply(makeRateGroups)\n",
    "loan_all['dti_category'].value_counts()"
   ]
  },
  {
   "cell_type": "markdown",
   "id": "da3b2e8d",
   "metadata": {},
   "source": [
    "### 4. Make segments of Amount."
   ]
  },
  {
   "cell_type": "code",
   "execution_count": 1176,
   "id": "c46c8c24",
   "metadata": {},
   "outputs": [
    {
     "data": {
      "text/plain": [
       "count    38577.000000\n",
       "mean     11047.025430\n",
       "std       7348.441646\n",
       "min        500.000000\n",
       "25%       5300.000000\n",
       "50%       9600.000000\n",
       "75%      15000.000000\n",
       "max      35000.000000\n",
       "Name: loan_amnt, dtype: float64"
      ]
     },
     "execution_count": 1176,
     "metadata": {},
     "output_type": "execute_result"
    }
   ],
   "source": [
    "loan_all.loan_amnt.describe()\n",
    "# Since min int_rate is 500 and max 35000 making 5 segments from 500 to 35000."
   ]
  },
  {
   "cell_type": "code",
   "execution_count": 1197,
   "id": "9b00cb82",
   "metadata": {},
   "outputs": [
    {
     "name": "stdout",
     "output_type": "stream",
     "text": [
      "5000.0\n",
      "15000.0\n",
      "10000.0\n"
     ]
    },
    {
     "data": {
      "text/html": [
       "<div>\n",
       "<style scoped>\n",
       "    .dataframe tbody tr th:only-of-type {\n",
       "        vertical-align: middle;\n",
       "    }\n",
       "\n",
       "    .dataframe tbody tr th {\n",
       "        vertical-align: top;\n",
       "    }\n",
       "\n",
       "    .dataframe thead th {\n",
       "        text-align: right;\n",
       "    }\n",
       "</style>\n",
       "<table border=\"1\" class=\"dataframe\">\n",
       "  <thead>\n",
       "    <tr style=\"text-align: right;\">\n",
       "      <th></th>\n",
       "      <th>loan_amnt</th>\n",
       "      <th>funded_amnt</th>\n",
       "      <th>funded_amnt_inv</th>\n",
       "      <th>term_months</th>\n",
       "      <th>int_rate</th>\n",
       "      <th>installment</th>\n",
       "      <th>grade</th>\n",
       "      <th>sub_grade</th>\n",
       "      <th>emp_length</th>\n",
       "      <th>home_ownership</th>\n",
       "      <th>...</th>\n",
       "      <th>last_pymnt_date</th>\n",
       "      <th>last_pymnt_amnt</th>\n",
       "      <th>last_credit_pull_date</th>\n",
       "      <th>pub_rec_bankruptcies</th>\n",
       "      <th>issue_month</th>\n",
       "      <th>issue_year</th>\n",
       "      <th>int_rate_category</th>\n",
       "      <th>dti_category</th>\n",
       "      <th>loan_amnt_category</th>\n",
       "      <th>annual_inc_category</th>\n",
       "    </tr>\n",
       "  </thead>\n",
       "  <tbody>\n",
       "    <tr>\n",
       "      <th>31</th>\n",
       "      <td>31825</td>\n",
       "      <td>31825</td>\n",
       "      <td>31825.00000</td>\n",
       "      <td>36</td>\n",
       "      <td>7.90</td>\n",
       "      <td>995.82</td>\n",
       "      <td>A</td>\n",
       "      <td>A4</td>\n",
       "      <td>5</td>\n",
       "      <td>MORTGAGE</td>\n",
       "      <td>...</td>\n",
       "      <td>Aug-2013</td>\n",
       "      <td>16966.70</td>\n",
       "      <td>Feb-2016</td>\n",
       "      <td>0.0</td>\n",
       "      <td>12</td>\n",
       "      <td>2011</td>\n",
       "      <td>0-10</td>\n",
       "      <td>13-16</td>\n",
       "      <td>&gt;25000</td>\n",
       "      <td>75000-100000</td>\n",
       "    </tr>\n",
       "    <tr>\n",
       "      <th>128</th>\n",
       "      <td>35000</td>\n",
       "      <td>35000</td>\n",
       "      <td>35000.00000</td>\n",
       "      <td>36</td>\n",
       "      <td>8.90</td>\n",
       "      <td>1111.37</td>\n",
       "      <td>A</td>\n",
       "      <td>A5</td>\n",
       "      <td>6</td>\n",
       "      <td>MORTGAGE</td>\n",
       "      <td>...</td>\n",
       "      <td>Jan-2015</td>\n",
       "      <td>1123.85</td>\n",
       "      <td>Mar-2016</td>\n",
       "      <td>0.0</td>\n",
       "      <td>12</td>\n",
       "      <td>2011</td>\n",
       "      <td>0-10</td>\n",
       "      <td>&gt;19</td>\n",
       "      <td>&gt;25000</td>\n",
       "      <td>&gt;125000</td>\n",
       "    </tr>\n",
       "    <tr>\n",
       "      <th>268</th>\n",
       "      <td>35000</td>\n",
       "      <td>26825</td>\n",
       "      <td>26800.00000</td>\n",
       "      <td>60</td>\n",
       "      <td>18.64</td>\n",
       "      <td>690.56</td>\n",
       "      <td>E</td>\n",
       "      <td>E1</td>\n",
       "      <td>8</td>\n",
       "      <td>MORTGAGE</td>\n",
       "      <td>...</td>\n",
       "      <td>Mar-2012</td>\n",
       "      <td>26684.35</td>\n",
       "      <td>May-2016</td>\n",
       "      <td>0.0</td>\n",
       "      <td>12</td>\n",
       "      <td>2011</td>\n",
       "      <td>16-19</td>\n",
       "      <td>10-13</td>\n",
       "      <td>&gt;25000</td>\n",
       "      <td>75000-100000</td>\n",
       "    </tr>\n",
       "    <tr>\n",
       "      <th>276</th>\n",
       "      <td>35000</td>\n",
       "      <td>35000</td>\n",
       "      <td>35000.00000</td>\n",
       "      <td>36</td>\n",
       "      <td>8.90</td>\n",
       "      <td>1111.37</td>\n",
       "      <td>A</td>\n",
       "      <td>A5</td>\n",
       "      <td>5</td>\n",
       "      <td>RENT</td>\n",
       "      <td>...</td>\n",
       "      <td>Oct-2012</td>\n",
       "      <td>27308.49</td>\n",
       "      <td>Oct-2012</td>\n",
       "      <td>0.0</td>\n",
       "      <td>12</td>\n",
       "      <td>2011</td>\n",
       "      <td>0-10</td>\n",
       "      <td>16-19</td>\n",
       "      <td>&gt;25000</td>\n",
       "      <td>75000-100000</td>\n",
       "    </tr>\n",
       "    <tr>\n",
       "      <th>306</th>\n",
       "      <td>35000</td>\n",
       "      <td>23250</td>\n",
       "      <td>23200.00000</td>\n",
       "      <td>60</td>\n",
       "      <td>20.30</td>\n",
       "      <td>619.88</td>\n",
       "      <td>E</td>\n",
       "      <td>E5</td>\n",
       "      <td>5</td>\n",
       "      <td>RENT</td>\n",
       "      <td>...</td>\n",
       "      <td>Oct-2015</td>\n",
       "      <td>8847.24</td>\n",
       "      <td>May-2016</td>\n",
       "      <td>0.0</td>\n",
       "      <td>12</td>\n",
       "      <td>2011</td>\n",
       "      <td>&gt;19</td>\n",
       "      <td>&gt;19</td>\n",
       "      <td>&gt;25000</td>\n",
       "      <td>75000-100000</td>\n",
       "    </tr>\n",
       "    <tr>\n",
       "      <th>...</th>\n",
       "      <td>...</td>\n",
       "      <td>...</td>\n",
       "      <td>...</td>\n",
       "      <td>...</td>\n",
       "      <td>...</td>\n",
       "      <td>...</td>\n",
       "      <td>...</td>\n",
       "      <td>...</td>\n",
       "      <td>...</td>\n",
       "      <td>...</td>\n",
       "      <td>...</td>\n",
       "      <td>...</td>\n",
       "      <td>...</td>\n",
       "      <td>...</td>\n",
       "      <td>...</td>\n",
       "      <td>...</td>\n",
       "      <td>...</td>\n",
       "      <td>...</td>\n",
       "      <td>...</td>\n",
       "      <td>...</td>\n",
       "      <td>...</td>\n",
       "    </tr>\n",
       "    <tr>\n",
       "      <th>19604</th>\n",
       "      <td>35000</td>\n",
       "      <td>35000</td>\n",
       "      <td>34950.00000</td>\n",
       "      <td>60</td>\n",
       "      <td>16.40</td>\n",
       "      <td>858.59</td>\n",
       "      <td>E</td>\n",
       "      <td>E1</td>\n",
       "      <td>&lt; 1</td>\n",
       "      <td>OWN</td>\n",
       "      <td>...</td>\n",
       "      <td>Mar-2011</td>\n",
       "      <td>35479.89</td>\n",
       "      <td>Mar-2011</td>\n",
       "      <td>0.0</td>\n",
       "      <td>2</td>\n",
       "      <td>2011</td>\n",
       "      <td>16-19</td>\n",
       "      <td>10-13</td>\n",
       "      <td>&gt;25000</td>\n",
       "      <td>75000-100000</td>\n",
       "    </tr>\n",
       "    <tr>\n",
       "      <th>19740</th>\n",
       "      <td>35000</td>\n",
       "      <td>35000</td>\n",
       "      <td>31845.22117</td>\n",
       "      <td>60</td>\n",
       "      <td>18.99</td>\n",
       "      <td>907.73</td>\n",
       "      <td>F</td>\n",
       "      <td>F3</td>\n",
       "      <td>10+</td>\n",
       "      <td>RENT</td>\n",
       "      <td>...</td>\n",
       "      <td>Sep-2013</td>\n",
       "      <td>21923.25</td>\n",
       "      <td>Oct-2013</td>\n",
       "      <td>0.0</td>\n",
       "      <td>2</td>\n",
       "      <td>2011</td>\n",
       "      <td>16-19</td>\n",
       "      <td>10-13</td>\n",
       "      <td>&gt;25000</td>\n",
       "      <td>&gt;125000</td>\n",
       "    </tr>\n",
       "    <tr>\n",
       "      <th>19760</th>\n",
       "      <td>33000</td>\n",
       "      <td>33000</td>\n",
       "      <td>29044.28153</td>\n",
       "      <td>60</td>\n",
       "      <td>16.77</td>\n",
       "      <td>816.06</td>\n",
       "      <td>E</td>\n",
       "      <td>E2</td>\n",
       "      <td>nan</td>\n",
       "      <td>MORTGAGE</td>\n",
       "      <td>...</td>\n",
       "      <td>Feb-2016</td>\n",
       "      <td>816.01</td>\n",
       "      <td>Feb-2016</td>\n",
       "      <td>0.0</td>\n",
       "      <td>2</td>\n",
       "      <td>2011</td>\n",
       "      <td>16-19</td>\n",
       "      <td>&gt;19</td>\n",
       "      <td>&gt;25000</td>\n",
       "      <td>100000-125000</td>\n",
       "    </tr>\n",
       "    <tr>\n",
       "      <th>19800</th>\n",
       "      <td>32000</td>\n",
       "      <td>32000</td>\n",
       "      <td>31684.89912</td>\n",
       "      <td>60</td>\n",
       "      <td>20.85</td>\n",
       "      <td>863.01</td>\n",
       "      <td>G</td>\n",
       "      <td>G3</td>\n",
       "      <td>5</td>\n",
       "      <td>RENT</td>\n",
       "      <td>...</td>\n",
       "      <td>Apr-2013</td>\n",
       "      <td>22899.00</td>\n",
       "      <td>Apr-2013</td>\n",
       "      <td>0.0</td>\n",
       "      <td>2</td>\n",
       "      <td>2011</td>\n",
       "      <td>&gt;19</td>\n",
       "      <td>13-16</td>\n",
       "      <td>&gt;25000</td>\n",
       "      <td>50000-75000</td>\n",
       "    </tr>\n",
       "    <tr>\n",
       "      <th>19811</th>\n",
       "      <td>32000</td>\n",
       "      <td>32000</td>\n",
       "      <td>31569.14450</td>\n",
       "      <td>60</td>\n",
       "      <td>19.74</td>\n",
       "      <td>843.19</td>\n",
       "      <td>F</td>\n",
       "      <td>F5</td>\n",
       "      <td>8</td>\n",
       "      <td>RENT</td>\n",
       "      <td>...</td>\n",
       "      <td>Feb-2016</td>\n",
       "      <td>842.34</td>\n",
       "      <td>May-2016</td>\n",
       "      <td>1.0</td>\n",
       "      <td>2</td>\n",
       "      <td>2011</td>\n",
       "      <td>&gt;19</td>\n",
       "      <td>16-19</td>\n",
       "      <td>&gt;25000</td>\n",
       "      <td>75000-100000</td>\n",
       "    </tr>\n",
       "  </tbody>\n",
       "</table>\n",
       "<p>550 rows × 44 columns</p>\n",
       "</div>"
      ],
      "text/plain": [
       "       loan_amnt  funded_amnt  funded_amnt_inv  term_months  int_rate  \\\n",
       "31         31825        31825      31825.00000           36      7.90   \n",
       "128        35000        35000      35000.00000           36      8.90   \n",
       "268        35000        26825      26800.00000           60     18.64   \n",
       "276        35000        35000      35000.00000           36      8.90   \n",
       "306        35000        23250      23200.00000           60     20.30   \n",
       "...          ...          ...              ...          ...       ...   \n",
       "19604      35000        35000      34950.00000           60     16.40   \n",
       "19740      35000        35000      31845.22117           60     18.99   \n",
       "19760      33000        33000      29044.28153           60     16.77   \n",
       "19800      32000        32000      31684.89912           60     20.85   \n",
       "19811      32000        32000      31569.14450           60     19.74   \n",
       "\n",
       "       installment grade sub_grade emp_length home_ownership  ...  \\\n",
       "31          995.82     A        A4         5        MORTGAGE  ...   \n",
       "128        1111.37     A        A5         6        MORTGAGE  ...   \n",
       "268         690.56     E        E1         8        MORTGAGE  ...   \n",
       "276        1111.37     A        A5         5            RENT  ...   \n",
       "306         619.88     E        E5         5            RENT  ...   \n",
       "...            ...   ...       ...        ...            ...  ...   \n",
       "19604       858.59     E        E1       < 1             OWN  ...   \n",
       "19740       907.73     F        F3       10+            RENT  ...   \n",
       "19760       816.06     E        E2        nan       MORTGAGE  ...   \n",
       "19800       863.01     G        G3         5            RENT  ...   \n",
       "19811       843.19     F        F5         8            RENT  ...   \n",
       "\n",
       "       last_pymnt_date last_pymnt_amnt last_credit_pull_date  \\\n",
       "31            Aug-2013        16966.70              Feb-2016   \n",
       "128           Jan-2015         1123.85              Mar-2016   \n",
       "268           Mar-2012        26684.35              May-2016   \n",
       "276           Oct-2012        27308.49              Oct-2012   \n",
       "306           Oct-2015         8847.24              May-2016   \n",
       "...                ...             ...                   ...   \n",
       "19604         Mar-2011        35479.89              Mar-2011   \n",
       "19740         Sep-2013        21923.25              Oct-2013   \n",
       "19760         Feb-2016          816.01              Feb-2016   \n",
       "19800         Apr-2013        22899.00              Apr-2013   \n",
       "19811         Feb-2016          842.34              May-2016   \n",
       "\n",
       "      pub_rec_bankruptcies issue_month issue_year  int_rate_category  \\\n",
       "31                     0.0          12       2011               0-10   \n",
       "128                    0.0          12       2011               0-10   \n",
       "268                    0.0          12       2011              16-19   \n",
       "276                    0.0          12       2011               0-10   \n",
       "306                    0.0          12       2011                >19   \n",
       "...                    ...         ...        ...                ...   \n",
       "19604                  0.0           2       2011              16-19   \n",
       "19740                  0.0           2       2011              16-19   \n",
       "19760                  0.0           2       2011              16-19   \n",
       "19800                  0.0           2       2011                >19   \n",
       "19811                  1.0           2       2011                >19   \n",
       "\n",
       "       dti_category loan_amnt_category  annual_inc_category  \n",
       "31            13-16             >25000         75000-100000  \n",
       "128             >19             >25000              >125000  \n",
       "268           10-13             >25000         75000-100000  \n",
       "276           16-19             >25000         75000-100000  \n",
       "306             >19             >25000         75000-100000  \n",
       "...             ...                ...                  ...  \n",
       "19604         10-13             >25000         75000-100000  \n",
       "19740         10-13             >25000              >125000  \n",
       "19760           >19             >25000        100000-125000  \n",
       "19800         13-16             >25000          50000-75000  \n",
       "19811         16-19             >25000         75000-100000  \n",
       "\n",
       "[550 rows x 44 columns]"
      ]
     },
     "execution_count": 1197,
     "metadata": {},
     "output_type": "execute_result"
    }
   ],
   "source": [
    "\n",
    "# Calculating IQR for annual_inc\n",
    "q1 = loan_all.loan_amnt.quantile(0.25)\n",
    "q3 = loan_all.loan_amnt.quantile(0.75)\n",
    "iqr = q3-q1\n",
    "print(q1)\n",
    "print(q3)\n",
    "print(iqr)\n",
    "# loan_all = loan_all[-(loan_all.loan_amnt>((iqr*1.5)+q3))]\n",
    "# loan_all = loan_all[-(loan_all.loan_amnt<(q1-(iqr*1.5)))]\n"
   ]
  },
  {
   "cell_type": "code",
   "execution_count": 1177,
   "id": "4596479b",
   "metadata": {},
   "outputs": [
    {
     "data": {
      "image/png": "[encoded data removed]",
      "text/plain": [
       "<Figure size 288x720 with 1 Axes>"
      ]
     },
     "metadata": {
      "needs_background": "light"
     },
     "output_type": "display_data"
    }
   ],
   "source": [
    "plt.figure(figsize=[4,10])\n",
    "plt.ylabel(\"Loan Amount\")\n",
    "loan_all.loan_amnt.plot.box()\n",
    "plt.show()"
   ]
  },
  {
   "cell_type": "code",
   "execution_count": 1178,
   "id": "a129f02f",
   "metadata": {},
   "outputs": [
    {
     "data": {
      "image/png": "[encoded data removed]",
      "text/plain": [
       "<Figure size 720x432 with 1 Axes>"
      ]
     },
     "metadata": {
      "needs_background": "light"
     },
     "output_type": "display_data"
    }
   ],
   "source": [
    "plt.figure(figsize=[10,6])\n",
    "plt.xlabel(\"Loan Amount\")\n",
    "loan_all.loan_amnt.hist(bins=6)\n",
    "plt.show()"
   ]
  },
  {
   "cell_type": "code",
   "execution_count": 1179,
   "id": "1ea94561",
   "metadata": {},
   "outputs": [
    {
     "data": {
      "text/plain": [
       "5000-10000     12021\n",
       "10000-15000     8654\n",
       "0-5000          7444\n",
       "15000-20000     4651\n",
       "20000-25000     3045\n",
       ">25000          2762\n",
       "Name: loan_amnt_category, dtype: int64"
      ]
     },
     "execution_count": 1179,
     "metadata": {},
     "output_type": "execute_result"
    }
   ],
   "source": [
    "def makeAmtGroups(x):\n",
    "    if x<5000:\n",
    "        return \"0-5000\"\n",
    "    elif x<10000:\n",
    "        return \"5000-10000\"\n",
    "    elif x<15000:\n",
    "        return \"10000-15000\"\n",
    "    elif x<20000:\n",
    "        return \"15000-20000\"\n",
    "    elif x<25000:\n",
    "        return \"20000-25000\"\n",
    "    elif x>=25000:\n",
    "        return \">25000\"\n",
    "\n",
    "# Make groups of int_rate.\n",
    "loan_all['loan_amnt_category'] = loan_all.loan_amnt.apply(makeAmtGroups)\n",
    "loan_all['loan_amnt_category'].value_counts()"
   ]
  },
  {
   "cell_type": "code",
   "execution_count": 1180,
   "id": "384f3d15",
   "metadata": {},
   "outputs": [
    {
     "data": {
      "image/png": "[encoded data removed]",
      "text/plain": [
       "<Figure size 288x720 with 1 Axes>"
      ]
     },
     "metadata": {
      "needs_background": "light"
     },
     "output_type": "display_data"
    }
   ],
   "source": [
    "plt.figure(figsize=[4,10])\n",
    "loan_all.annual_inc.plot.box()\n",
    "plt.show()"
   ]
  },
  {
   "cell_type": "code",
   "execution_count": 1181,
   "id": "0eabda25",
   "metadata": {},
   "outputs": [
    {
     "name": "stdout",
     "output_type": "stream",
     "text": [
      "40000.0\n",
      "82000.0\n",
      "42000.0\n"
     ]
    }
   ],
   "source": [
    "# loan_all = loan_all.drop(columns=[\"annual_inc_int\"], axis=1)\n",
    "\n",
    "# Calculating IQR for annual_inc\n",
    "q1 = loan_all.annual_inc.quantile(0.25)\n",
    "q3 = loan_all.annual_inc.quantile(0.75)\n",
    "iqr = q3-q1\n",
    "print(q1)\n",
    "print(q3)\n",
    "print(iqr)\n",
    "\n",
    "# Removing outlier from income Group\n",
    "loan_all = loan_all[-(loan_all[\"annual_inc\"]>((iqr*1.5)+q3))]\n",
    "loan_all = loan_all[-(loan_all[\"annual_inc\"]<(q1-(iqr*1.5)))]"
   ]
  },
  {
   "cell_type": "code",
   "execution_count": 1183,
   "id": "6ccab9bf",
   "metadata": {},
   "outputs": [
    {
     "data": {
      "image/png": "[encoded data removed]",
      "text/plain": [
       "<Figure size 1080x432 with 1 Axes>"
      ]
     },
     "metadata": {
      "needs_background": "light"
     },
     "output_type": "display_data"
    }
   ],
   "source": [
    "plt.figure(figsize=[15,6])\n",
    "# plt.xlabel(\"Annual Income\")\n",
    "sns.histplot(loan_all.annual_inc, bins=20, kde=True)\n",
    "plt.show()"
   ]
  },
  {
   "cell_type": "code",
   "execution_count": 1184,
   "id": "36342137",
   "metadata": {},
   "outputs": [
    {
     "data": {
      "text/plain": [
       "25000-50000      12057\n",
       "50000-75000      11911\n",
       "75000-100000      6327\n",
       "100000-125000     2991\n",
       "0-25000           2303\n",
       ">125000           1226\n",
       "Name: annual_inc_category, dtype: int64"
      ]
     },
     "execution_count": 1184,
     "metadata": {},
     "output_type": "execute_result"
    }
   ],
   "source": [
    "def makeIncomeGroups(x):\n",
    "    if x<25000:\n",
    "        return \"0-25000\"\n",
    "    elif x<50000:\n",
    "        return \"25000-50000\"\n",
    "    elif x<75000:\n",
    "        return \"50000-75000\"\n",
    "    elif x<100000:\n",
    "        return \"75000-100000\"\n",
    "    elif x<125000:\n",
    "        return \"100000-125000\"\n",
    "    elif x>=125000:\n",
    "        return \">125000\"\n",
    "\n",
    "# Make groups of int_rate.\n",
    "loan_all['annual_inc_category'] = loan_all.annual_inc.apply(makeIncomeGroups)\n",
    "loan_all['annual_inc_category'].value_counts()"
   ]
  },
  {
   "cell_type": "code",
   "execution_count": 1186,
   "id": "0c0fdfdc",
   "metadata": {},
   "outputs": [
    {
     "data": {
      "text/plain": [
       "(36815, 44)"
      ]
     },
     "execution_count": 1186,
     "metadata": {},
     "output_type": "execute_result"
    }
   ],
   "source": [
    "loan_all.shape"
   ]
  },
  {
   "cell_type": "markdown",
   "id": "de2011b7",
   "metadata": {},
   "source": [
    "# 4. Univariate Analysis"
   ]
  },
  {
   "cell_type": "code",
   "execution_count": 1191,
   "id": "5d1d2404",
   "metadata": {},
   "outputs": [
    {
     "data": {
      "image/png": "[encoded data removed]",
      "text/plain": [
       "<Figure size 1008x288 with 1 Axes>"
      ]
     },
     "metadata": {
      "needs_background": "light"
     },
     "output_type": "display_data"
    }
   ],
   "source": [
    "plt.figure(figsize=[14,4])\n",
    "sns.boxplot(x = 'int_rate', data = loan_all, width=8)\n",
    "plt.show()"
   ]
  },
  {
   "cell_type": "code",
   "execution_count": 843,
   "id": "b86f8e48",
   "metadata": {},
   "outputs": [
    {
     "data": {
      "image/png": "[encoded data removed]",
      "text/plain": [
       "<Figure size 864x288 with 1 Axes>"
      ]
     },
     "metadata": {
      "needs_background": "light"
     },
     "output_type": "display_data"
    }
   ],
   "source": [
    "#Univariate analysis for Loan Status and percent of lons\n",
    "loan_status_per = pd.Series(loan_all.loan_status.value_counts()).apply(\n",
    "    lambda x: (x/loan_all.loan_status.value_counts().sum())*100)\n",
    "\n",
    "plt.ylabel(\"Loan Status\", fontdict={'fontsize': 12, 'fontweight' : 5, 'color' : 'Brown'})\n",
    "plt.xlabel(\"%\", fontdict={'fontsize': 12, 'fontweight' : 5, 'color' : 'Brown'} )\n",
    "loan_status_per.plot(kind=\"barh\", figsize=[12,4])\n",
    "plt.xticks(rotation=0)\n",
    "plt.show()\n"
   ]
  },
  {
   "cell_type": "code",
   "execution_count": 831,
   "id": "d05e41ab",
   "metadata": {},
   "outputs": [
    {
     "data": {
      "image/png": "[encoded data removed]",
      "text/plain": [
       "<Figure size 720x432 with 1 Axes>"
      ]
     },
     "metadata": {
      "needs_background": "light"
     },
     "output_type": "display_data"
    }
   ],
   "source": [
    "#Univariate analysis for Loan disbursed yearly\n",
    "plt.figure(figsize=[10,6])\n",
    "sns.countplot(x = 'issue_year', data=loan_all)\n",
    "plt.xlabel(\"Year\", fontdict={'fontsize': 12, 'fontweight' : 5, 'color' : 'Brown'})\n",
    "plt.ylabel(\"Counts\", fontdict={'fontsize': 12, 'fontweight' : 5, 'color' : 'Brown'} )\n",
    "plt.show()"
   ]
  },
  {
   "cell_type": "code",
   "execution_count": 1205,
   "id": "07af02be",
   "metadata": {},
   "outputs": [
    {
     "data": {
      "image/png": "[encoded data removed]",
      "text/plain": [
       "<Figure size 1152x432 with 1 Axes>"
      ]
     },
     "metadata": {
      "needs_background": "light"
     },
     "output_type": "display_data"
    }
   ],
   "source": [
    "#Univariate analysis for interest Rate\n",
    "plt.figure(figsize=[16,6])\n",
    "sns.distplot(loan_all.int_rate)\n",
    "plt.show()"
   ]
  },
  {
   "cell_type": "code",
   "execution_count": 1207,
   "id": "a6017c30",
   "metadata": {},
   "outputs": [
    {
     "data": {
      "image/png": "[encoded data removed]",
      "text/plain": [
       "<Figure size 1152x432 with 1 Axes>"
      ]
     },
     "metadata": {
      "needs_background": "light"
     },
     "output_type": "display_data"
    }
   ],
   "source": [
    "#Univariate analysis for Loan Amount\n",
    "plt.figure(figsize=[16,6])\n",
    "sns.distplot(loan_all.loan_amnt)\n",
    "plt.show()"
   ]
  },
  {
   "cell_type": "code",
   "execution_count": 1209,
   "id": "a337da8e",
   "metadata": {},
   "outputs": [
    {
     "data": {
      "image/png": "[encoded data removed]",
      "text/plain": [
       "<Figure size 1152x432 with 1 Axes>"
      ]
     },
     "metadata": {
      "needs_background": "light"
     },
     "output_type": "display_data"
    }
   ],
   "source": [
    "#Univariate analysis for Annual income \n",
    "plt.figure(figsize=[16,6])\n",
    "sns.distplot(loan_all.annual_inc)\n",
    "plt.show()"
   ]
  },
  {
   "cell_type": "markdown",
   "id": "952a5512",
   "metadata": {},
   "source": [
    "# 5. Segmented Univariate Analysis"
   ]
  },
  {
   "cell_type": "code",
   "execution_count": 1200,
   "id": "5c39616c",
   "metadata": {},
   "outputs": [
    {
     "data": {
      "image/png": "[encoded data removed]",
      "text/plain": [
       "<Figure size 720x432 with 1 Axes>"
      ]
     },
     "metadata": {
      "needs_background": "light"
     },
     "output_type": "display_data"
    }
   ],
   "source": [
    "# #Univariate analysis for Annual Income Ranges\n",
    "#Create a count Plot of the Annual Income Ranges\n",
    "\n",
    "plt.figure(figsize=[10,6])\n",
    "sns.countplot(x = 'annual_inc_category', data=loan_all, \n",
    "              order = [\"0-25000\",\"25000-50000\",\"50000-75000\",\"75000-100000\",\"100000-125000\",\">125000\"])\n",
    "plt.title('Count Plot - Annual Income')\n",
    "plt.xlabel(\"Annual Income\", fontdict={'fontsize': 12, 'fontweight' : 5, 'color' : 'Brown'})\n",
    "plt.ylabel(\"Loan Counts\", fontdict={'fontsize': 12, 'fontweight' : 5, 'color' : 'Brown'} )\n",
    "plt.show()\n",
    "\n",
    "# From the count plot below we can deduce that Annual income of customers that are taking loan is around 30k-80k range\n"
   ]
  },
  {
   "cell_type": "code",
   "execution_count": 1198,
   "id": "64de618a",
   "metadata": {},
   "outputs": [
    {
     "data": {
      "image/png": "[encoded data removed]",
      "text/plain": [
       "<Figure size 720x432 with 1 Axes>"
      ]
     },
     "metadata": {
      "needs_background": "light"
     },
     "output_type": "display_data"
    }
   ],
   "source": [
    "#Univariate analysis for Loan Amount Ranges\n",
    "plt.figure(figsize=[10,6])\n",
    "sns.countplot(x = 'loan_amnt_category', data=loan_all, \n",
    "              order = [\"0-5000\", \"5000-10000\", \"10000-15000\", \"15000-20000\", \"20000-25000\", \">25000\"])\n",
    "plt.xlabel(\"Loan Amount Range\", fontdict={'fontsize': 12, 'fontweight' : 5, 'color' : 'Brown'})\n",
    "plt.ylabel(\"Loan Counts\", fontdict={'fontsize': 12, 'fontweight' : 5, 'color' : 'Brown'} )\n",
    "plt.show()"
   ]
  },
  {
   "cell_type": "code",
   "execution_count": 1199,
   "id": "7b76c6f9",
   "metadata": {},
   "outputs": [
    {
     "data": {
      "image/png": "[encoded data removed]",
      "text/plain": [
       "<Figure size 720x432 with 1 Axes>"
      ]
     },
     "metadata": {
      "needs_background": "light"
     },
     "output_type": "display_data"
    }
   ],
   "source": [
    "#Univariate analysis for Interest Rate Ranges\n",
    "plt.figure(figsize=[10,6])\n",
    "sns.countplot(x = 'int_rate_category', data=loan_all, \n",
    "              order = [\"0-10\",\"10-13\",\"13-16\",\"16-19\",\">19\"])\n",
    "plt.xlabel(\"Interest Rate Range\", fontdict={'fontsize': 12, 'fontweight' : 5, 'color' : 'Brown'})\n",
    "plt.ylabel(\"Loan Counts\", fontdict={'fontsize': 12, 'fontweight' : 5, 'color' : 'Brown'} )\n",
    "plt.show()"
   ]
  },
  {
   "cell_type": "markdown",
   "id": "ea214d42",
   "metadata": {},
   "source": [
    "# 6. Bivariate Analysis"
   ]
  },
  {
   "cell_type": "code",
   "execution_count": 1210,
   "id": "f40dae9e",
   "metadata": {},
   "outputs": [
    {
     "data": {
      "image/png": "[encoded data removed]",
      "text/plain": [
       "<Figure size 720x432 with 1 Axes>"
      ]
     },
     "metadata": {
      "needs_background": "light"
     },
     "output_type": "display_data"
    }
   ],
   "source": [
    "#Bivariate analysis for Loan disbursed yearly\n",
    "plt.figure(figsize=[10,6])\n",
    "sns.countplot(x = 'grade', data = loan_all[loan_all.loan_status == 'Charged Off'], \n",
    "              order = ['A', 'B', 'C', 'D', 'E', 'F', 'G'])\n",
    "plt.xlabel(\"Grade\", fontdict={'fontsize': 12, 'fontweight' : 5, 'color' : 'Brown'})\n",
    "plt.ylabel(\"Counts\", fontdict={'fontsize': 12, 'fontweight' : 5, 'color' : 'Brown'} )\n",
    "plt.show()"
   ]
  },
  {
   "cell_type": "code",
   "execution_count": 1212,
   "id": "34e77561",
   "metadata": {},
   "outputs": [
    {
     "data": {
      "image/png": "[encoded data removed]",
      "text/plain": [
       "<Figure size 720x432 with 1 Axes>"
      ]
     },
     "metadata": {
      "needs_background": "light"
     },
     "output_type": "display_data"
    }
   ],
   "source": [
    "#Bivariate analysis for Charged Off loan grade wise\n",
    "plt.figure(figsize=[10,6])\n",
    "sns.countplot(x = 'grade', data = loan_all[loan_all.loan_status == 'Charged Off'], \n",
    "              order = ['A', 'B', 'C', 'D', 'E', 'F', 'G'])\n",
    "plt.xlabel(\"Grade\", fontdict={'fontsize': 12, 'fontweight' : 5, 'color' : 'Brown'})\n",
    "plt.ylabel(\"Counts\", fontdict={'fontsize': 12, 'fontweight' : 5, 'color' : 'Brown'} )\n",
    "plt.show()"
   ]
  }
 ],
 "metadata": {
  "kernelspec": {
   "display_name": "Python 3 (ipykernel)",
   "language": "python",
   "name": "python3"
  },
  "language_info": {
   "codemirror_mode": {
    "name": "ipython",
    "version": 3
   },
   "file_extension": ".py",
   "mimetype": "text/x-python",
   "name": "python",
   "nbconvert_exporter": "python",
   "pygments_lexer": "ipython3",
   "version": "3.9.7"
  }
 },
 "nbformat": 4,
 "nbformat_minor": 5
}
